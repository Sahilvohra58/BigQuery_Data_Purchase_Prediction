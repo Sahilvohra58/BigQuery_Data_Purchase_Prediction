{
 "cells": [
  {
   "cell_type": "markdown",
   "metadata": {},
   "source": [
    "## **1. Base model**"
   ]
  },
  {
   "cell_type": "markdown",
   "metadata": {},
   "source": [
    "- The k-fold cross-validation procedure provides a good general estimate of model performance that is not too optimistically biased, at least compared to a single train-test split. \n",
    "\n",
    "- We will use k=10, meaning each fold will contain about 130875/10 or 130872 examples.\n",
    "\n",
    "- Each fold will contain the same mixture of examples by class, that is about 99.8 percent to 0.2 percent negative and positive transactions respectively."
   ]
  },
  {
   "cell_type": "code",
   "execution_count": 12,
   "metadata": {},
   "outputs": [
    {
     "data": {
      "text/html": [
       "<div>\n",
       "<style scoped>\n",
       "    .dataframe tbody tr th:only-of-type {\n",
       "        vertical-align: middle;\n",
       "    }\n",
       "\n",
       "    .dataframe tbody tr th {\n",
       "        vertical-align: top;\n",
       "    }\n",
       "\n",
       "    .dataframe thead th {\n",
       "        text-align: right;\n",
       "    }\n",
       "</style>\n",
       "<table border=\"1\" class=\"dataframe\">\n",
       "  <thead>\n",
       "    <tr style=\"text-align: right;\">\n",
       "      <th></th>\n",
       "      <th>days_inactive</th>\n",
       "      <th>num_visits</th>\n",
       "      <th>sum_transactionRevenue</th>\n",
       "      <th>hits</th>\n",
       "      <th>pageviews</th>\n",
       "      <th>timeOnSite</th>\n",
       "      <th>timeOnSite_hours</th>\n",
       "      <th>timeOnSite_minutes</th>\n",
       "      <th>is_Northern America</th>\n",
       "    </tr>\n",
       "  </thead>\n",
       "  <tbody>\n",
       "    <tr>\n",
       "      <th>0</th>\n",
       "      <td>0.626667</td>\n",
       "      <td>0.000000</td>\n",
       "      <td>0.0</td>\n",
       "      <td>0.001849</td>\n",
       "      <td>0.006768</td>\n",
       "      <td>0.020944</td>\n",
       "      <td>0.0</td>\n",
       "      <td>0.019126</td>\n",
       "      <td>0</td>\n",
       "    </tr>\n",
       "    <tr>\n",
       "      <th>1</th>\n",
       "      <td>0.626667</td>\n",
       "      <td>0.000000</td>\n",
       "      <td>0.0</td>\n",
       "      <td>0.001849</td>\n",
       "      <td>0.006768</td>\n",
       "      <td>0.010313</td>\n",
       "      <td>0.0</td>\n",
       "      <td>0.008197</td>\n",
       "      <td>0</td>\n",
       "    </tr>\n",
       "    <tr>\n",
       "      <th>2</th>\n",
       "      <td>0.626667</td>\n",
       "      <td>0.000000</td>\n",
       "      <td>0.0</td>\n",
       "      <td>0.005548</td>\n",
       "      <td>0.011280</td>\n",
       "      <td>0.002362</td>\n",
       "      <td>0.0</td>\n",
       "      <td>0.000000</td>\n",
       "      <td>0</td>\n",
       "    </tr>\n",
       "    <tr>\n",
       "      <th>3</th>\n",
       "      <td>0.626667</td>\n",
       "      <td>0.046286</td>\n",
       "      <td>0.0</td>\n",
       "      <td>0.009246</td>\n",
       "      <td>0.015793</td>\n",
       "      <td>0.006542</td>\n",
       "      <td>0.0</td>\n",
       "      <td>0.005464</td>\n",
       "      <td>1</td>\n",
       "    </tr>\n",
       "    <tr>\n",
       "      <th>4</th>\n",
       "      <td>0.626667</td>\n",
       "      <td>0.000000</td>\n",
       "      <td>0.0</td>\n",
       "      <td>0.009246</td>\n",
       "      <td>0.011280</td>\n",
       "      <td>0.003907</td>\n",
       "      <td>0.0</td>\n",
       "      <td>0.002732</td>\n",
       "      <td>0</td>\n",
       "    </tr>\n",
       "  </tbody>\n",
       "</table>\n",
       "</div>"
      ],
      "text/plain": [
       "   days_inactive  num_visits  sum_transactionRevenue      hits  pageviews  \\\n",
       "0       0.626667    0.000000                     0.0  0.001849   0.006768   \n",
       "1       0.626667    0.000000                     0.0  0.001849   0.006768   \n",
       "2       0.626667    0.000000                     0.0  0.005548   0.011280   \n",
       "3       0.626667    0.046286                     0.0  0.009246   0.015793   \n",
       "4       0.626667    0.000000                     0.0  0.009246   0.011280   \n",
       "\n",
       "   timeOnSite  timeOnSite_hours  timeOnSite_minutes  is_Northern America  \n",
       "0    0.020944               0.0            0.019126                    0  \n",
       "1    0.010313               0.0            0.008197                    0  \n",
       "2    0.002362               0.0            0.000000                    0  \n",
       "3    0.006542               0.0            0.005464                    1  \n",
       "4    0.003907               0.0            0.002732                    0  "
      ]
     },
     "execution_count": 12,
     "metadata": {},
     "output_type": "execute_result"
    }
   ],
   "source": [
    "import pandas as pd\n",
    "\n",
    "df = pd.read_csv('dse_training_data_important_features.csv')\n",
    "X = df.drop(columns=['converted_label'])\n",
    "y = df['converted_label']\n",
    "X.head()"
   ]
  },
  {
   "cell_type": "code",
   "execution_count": 2,
   "metadata": {},
   "outputs": [
    {
     "data": {
      "text/plain": [
       "130875"
      ]
     },
     "execution_count": 2,
     "metadata": {},
     "output_type": "execute_result"
    }
   ],
   "source": [
    "len(X)"
   ]
  },
  {
   "cell_type": "code",
   "execution_count": 3,
   "metadata": {},
   "outputs": [],
   "source": [
    "from sklearn.metrics import precision_recall_curve\n",
    "from sklearn.metrics import auc\n",
    "\n",
    "from sklearn.model_selection import cross_val_score\n",
    "from sklearn.model_selection import RepeatedStratifiedKFold\n",
    "from sklearn.metrics import make_scorer\n",
    "\n",
    "\n",
    "# calculate precision-recall area under curve\n",
    "def pr_auc(y_true, probas_pred):\n",
    "\tp, r, _ = precision_recall_curve(y_true, probas_pred)\n",
    "\treturn auc(r, p)\n",
    " \n",
    "\n",
    "# evaluate a model\n",
    "def evaluate_model(X, y, model):\n",
    "\tcv = RepeatedStratifiedKFold(n_splits=10, n_repeats=3, random_state=1)\n",
    "\tmetric = make_scorer(pr_auc, needs_proba=True)\n",
    "\tscores = cross_val_score(model, X, y, scoring=metric, cv=cv, n_jobs=-1)\n",
    "\treturn scores"
   ]
  },
  {
   "cell_type": "markdown",
   "metadata": {},
   "source": [
    "We will evaluate the following base machine learning models on the dataset:\n",
    "\n",
    "    Decision Tree (CART)\n",
    "    k-Nearest Neighbors (KNN)\n",
    "    Bagged Decision Trees (BAG)\n",
    "    Random Forest (RF)\n",
    "    Extra Trees (ET)"
   ]
  },
  {
   "cell_type": "code",
   "execution_count": 4,
   "metadata": {},
   "outputs": [],
   "source": [
    "from sklearn.tree import DecisionTreeClassifier\n",
    "from sklearn.neighbors import KNeighborsClassifier\n",
    "from sklearn.ensemble import RandomForestClassifier\n",
    "from sklearn.ensemble import ExtraTreesClassifier\n",
    "from sklearn.ensemble import BaggingClassifier\n",
    "from sklearn.preprocessing import StandardScaler\n",
    "from sklearn.pipeline import Pipeline\n",
    "from sklearn.svm import SVC\n",
    "from sklearn.linear_model import LogisticRegression\n",
    "from xgboost import XGBClassifier\n",
    "\n",
    "\n",
    "\n",
    "\n",
    "\n",
    "# define models to test\n",
    "def get_models():\n",
    "\tmodels, names = list(), list()\n",
    "\n",
    "\t# models.append(SVC())\n",
    "\t# names.append('SVC')\n",
    "\t\n",
    "\tmodels.append(LogisticRegression())\n",
    "\tnames.append('LogisticRegression')\n",
    "\n",
    "\tmodels.append(DecisionTreeClassifier())\n",
    "\tnames.append('CART')\n",
    "\n",
    "\t# steps = [('m',KNeighborsClassifier())]\n",
    "\t# #models.append(Pipeline(steps=steps))\n",
    "\t# models.append(KNeighborsClassifier())\n",
    "\t# names.append('KNN')\n",
    "\n",
    "\tmodels.append(XGBClassifier())\n",
    "\tnames.append('XGBClassifier')\n",
    "\n",
    "\tmodels.append(BaggingClassifier(n_estimators=100))\n",
    "\tnames.append('BAG')\n",
    "\n",
    "\tmodels.append(RandomForestClassifier(n_estimators=100))\n",
    "\tnames.append('RF')\n",
    "\n",
    "\tmodels.append(ExtraTreesClassifier(n_estimators=100))\n",
    "\tnames.append('ET')\n",
    "\treturn models, names"
   ]
  },
  {
   "cell_type": "code",
   "execution_count": 11,
   "metadata": {},
   "outputs": [
    {
     "name": "stdout",
     "output_type": "stream",
     "text": [
      ">LogisticRegression 0.319 (0.088)\n",
      ">CART 0.384 (0.079)\n",
      ">XGBClassifier 0.432 (0.094)\n",
      ">BAG 0.437 (0.093)\n",
      ">RF 0.437 (0.094)\n",
      ">ET 0.368 (0.091)\n"
     ]
    },
    {
     "data": {
      "image/png": "[encoded data removed]",
      "text/plain": [
       "<Figure size 432x288 with 1 Axes>"
      ]
     },
     "metadata": {
      "needs_background": "light"
     },
     "output_type": "display_data"
    }
   ],
   "source": [
    "import numpy as np\n",
    "import matplotlib.pyplot as plt\n",
    "models, names = get_models()\n",
    "results = list()\n",
    "\n",
    "# evaluate each model\n",
    "for i in range(len(models)):\n",
    "\tscores = evaluate_model(X, y, models[i])\n",
    "\tresults.append(scores)\n",
    "\n",
    "\tprint('>%s %.3f (%.3f)' % (names[i], np.mean(scores), np.std(scores)))\n",
    "\n",
    "plt.boxplot(results, labels=names, showmeans=True)\n",
    "plt.show()"
   ]
  },
  {
   "cell_type": "markdown",
   "metadata": {},
   "source": [
    "All of the tested algorithms have skill, achieving a PR AUC BELOW the default of 0.5, which means there is not much learning."
   ]
  },
  {
   "cell_type": "markdown",
   "metadata": {},
   "source": [
    "## **Sampling**\n",
    "\n",
    "- Lets over sample the minority class (label 1) and over sample the majority (label 0)."
   ]
  },
  {
   "cell_type": "code",
   "execution_count": 27,
   "metadata": {},
   "outputs": [],
   "source": [
    "from imblearn.under_sampling import RandomUnderSampler\n",
    "from imblearn.over_sampling import SMOTE\n",
    "\n",
    "\n",
    "over = SMOTE(sampling_strategy=0.03)\n",
    "under = RandomUnderSampler(sampling_strategy='majority')\n",
    "\n",
    "X_over, y_over = over.fit_resample(X,y)\n",
    "\n",
    "X_sampled, y_sampled = under.fit_resample(X_over, y_over)"
   ]
  },
  {
   "cell_type": "code",
   "execution_count": 28,
   "metadata": {},
   "outputs": [
    {
     "data": {
      "text/plain": [
       "(134570, 134570, 7838, 7838)"
      ]
     },
     "execution_count": 28,
     "metadata": {},
     "output_type": "execute_result"
    }
   ],
   "source": [
    "len(X_over), len(y_over), len(X_sampled), len(y_sampled)"
   ]
  },
  {
   "cell_type": "code",
   "execution_count": 33,
   "metadata": {},
   "outputs": [],
   "source": [
    "from sklearn.model_selection import train_test_split\n",
    "\n",
    "X_train, X_test, y_train, y_test = train_test_split(X_sampled, y_sampled, test_size=0.20, random_state=42)"
   ]
  },
  {
   "cell_type": "code",
   "execution_count": 34,
   "metadata": {},
   "outputs": [
    {
     "name": "stdout",
     "output_type": "stream",
     "text": [
      ">LogisticRegression 0.935 (0.010)\n",
      ">CART 0.962 (0.007)\n",
      ">XGBClassifier 0.996 (0.001)\n",
      ">BAG 0.994 (0.003)\n",
      ">RF 0.995 (0.002)\n",
      ">ET 0.993 (0.003)\n"
     ]
    },
    {
     "data": {
      "image/png": "[encoded data removed]",
      "text/plain": [
       "<Figure size 432x288 with 1 Axes>"
      ]
     },
     "metadata": {
      "needs_background": "light"
     },
     "output_type": "display_data"
    }
   ],
   "source": [
    "import numpy as np\n",
    "import matplotlib.pyplot as plt\n",
    "\n",
    "models_after_sample, names_after_sample = get_models()\n",
    "results_after_sample = list()\n",
    "\n",
    "# evaluate each model\n",
    "for i in range(len(models_after_sample)):\n",
    "\tscores_after_sample = evaluate_model(X_train, y_train, models_after_sample[i])\n",
    "\tresults_after_sample.append(scores_after_sample)\n",
    "\n",
    "\tprint('>%s %.3f (%.3f)' % (names_after_sample[i], np.mean(scores_after_sample), np.std(scores_after_sample)))\n",
    "\n",
    "plt.boxplot(results_after_sample, labels=names_after_sample, showmeans=True)\n",
    "plt.show()"
   ]
  },
  {
   "cell_type": "markdown",
   "metadata": {},
   "source": [
    "Model results have greatly improved after the sampling."
   ]
  },
  {
   "cell_type": "markdown",
   "metadata": {},
   "source": [
    "Lets evaluate on test data"
   ]
  },
  {
   "cell_type": "code",
   "execution_count": 57,
   "metadata": {},
   "outputs": [
    {
     "name": "stderr",
     "output_type": "stream",
     "text": [
      "C:\\Users\\Sahil\\AppData\\Local\\Programs\\Python\\Python38\\lib\\site-packages\\xgboost\\sklearn.py:1224: UserWarning: The use of label encoder in XGBClassifier is deprecated and will be removed in a future release. To remove this warning, do the following: 1) Pass option use_label_encoder=False when constructing XGBClassifier object; and 2) Encode your labels (y) as integers starting with 0, i.e. 0, 1, 2, ..., [num_class - 1].\n",
      "  warnings.warn(label_encoder_deprecation_msg, UserWarning)\n"
     ]
    },
    {
     "name": "stdout",
     "output_type": "stream",
     "text": [
      "[08:25:10] WARNING: C:/Users/Administrator/workspace/xgboost-win64_release_1.5.1/src/learner.cc:1115: Starting in XGBoost 1.3.0, the default evaluation metric used with the objective 'binary:logistic' was changed from 'error' to 'logloss'. Explicitly set eval_metric if you'd like to restore the old behavior.\n"
     ]
    }
   ],
   "source": [
    "predictions = []\n",
    "for model in models_after_sample:\n",
    "    pipeline = Pipeline(steps=[('m',model)])\n",
    "    pipeline.fit(X_train, y_train)\n",
    "    y_pred = pipeline.predict(X_test)\n",
    "    predictions.append(y_pred)\n",
    "\n"
   ]
  },
  {
   "cell_type": "code",
   "execution_count": 80,
   "metadata": {},
   "outputs": [
    {
     "name": "stdout",
     "output_type": "stream",
     "text": [
      "For model LogisticRegression   tn:652, fp:146, fn:71, tp:699, precision:0.8272189349112427, recall:0.9077922077922078\n",
      "For model CART   tn:738, fp:60, fn:27, tp:743, precision:0.925280199252802, recall:0.964935064935065\n",
      "For model XGBClassifier   tn:776, fp:22, fn:11, tp:759, precision:0.971830985915493, recall:0.9857142857142858\n",
      "For model BAG   tn:767, fp:31, fn:15, tp:755, precision:0.960559796437659, recall:0.9805194805194806\n",
      "For model RF   tn:766, fp:32, fn:10, tp:760, precision:0.9595959595959596, recall:0.987012987012987\n",
      "For model ET   tn:757, fp:41, fn:12, tp:758, precision:0.9486858573216521, recall:0.9844155844155844\n"
     ]
    }
   ],
   "source": [
    "from sklearn.metrics import confusion_matrix\n",
    "from sklearn.metrics import precision_recall_fscore_support\n",
    "\n",
    "\n",
    "for i, prediction in enumerate(predictions):\n",
    "    tn, fp, fn, tp = confusion_matrix(y_true=y_test, y_pred=prediction).ravel()\n",
    "    precision, recall, _, _= precision_recall_fscore_support(y_true=y_test.tolist(), y_pred=list(prediction), average=None)\n",
    "    print(f\"For model {names_after_sample[i]}   tn:{tn}, fp:{fp}, fn:{fn}, tp:{tp}, precision:{precision[1]}, recall:{recall[1]}\")\n",
    "    # print(prediction)\n",
    "    # break\n"
   ]
  },
  {
   "cell_type": "markdown",
   "metadata": {},
   "source": [
    "XGBClassifier so far has the best results."
   ]
  },
  {
   "cell_type": "code",
   "execution_count": 81,
   "metadata": {},
   "outputs": [
    {
     "name": "stdout",
     "output_type": "stream",
     "text": [
      "              precision    recall  f1-score   support\n",
      "\n",
      "           0       0.99      0.97      0.98       798\n",
      "           1       0.97      0.99      0.98       770\n",
      "\n",
      "    accuracy                           0.98      1568\n",
      "   macro avg       0.98      0.98      0.98      1568\n",
      "weighted avg       0.98      0.98      0.98      1568\n",
      "\n"
     ]
    }
   ],
   "source": [
    "from sklearn.metrics import classification_report\n",
    "\n",
    "print(classification_report(y_test, predictions[2]))"
   ]
  }
 ],
 "metadata": {
  "interpreter": {
   "hash": "b6dd608ddd16ef8114cec5f050ad31736520bdbacef8568d33dc109fcf0153f1"
  },
  "kernelspec": {
   "display_name": "Python 3.8.0 64-bit",
   "language": "python",
   "name": "python3"
  },
  "language_info": {
   "codemirror_mode": {
    "name": "ipython",
    "version": 3
   },
   "file_extension": ".py",
   "mimetype": "text/x-python",
   "name": "python",
   "nbconvert_exporter": "python",
   "pygments_lexer": "ipython3",
   "version": "3.8.0"
  },
  "orig_nbformat": 4
 },
 "nbformat": 4,
 "nbformat_minor": 2
}
