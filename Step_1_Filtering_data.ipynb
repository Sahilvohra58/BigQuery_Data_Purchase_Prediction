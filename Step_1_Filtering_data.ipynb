{
 "cells": [
  {
   "cell_type": "markdown",
   "metadata": {},
   "source": [
    "## Importing Data"
   ]
  },
  {
   "cell_type": "code",
   "execution_count": 648,
   "metadata": {},
   "outputs": [
    {
     "data": {
      "text/html": [
       "<div>\n",
       "<style scoped>\n",
       "    .dataframe tbody tr th:only-of-type {\n",
       "        vertical-align: middle;\n",
       "    }\n",
       "\n",
       "    .dataframe tbody tr th {\n",
       "        vertical-align: top;\n",
       "    }\n",
       "\n",
       "    .dataframe thead th {\n",
       "        text-align: right;\n",
       "    }\n",
       "</style>\n",
       "<table border=\"1\" class=\"dataframe\">\n",
       "  <thead>\n",
       "    <tr style=\"text-align: right;\">\n",
       "      <th></th>\n",
       "      <th>fullVisitorId</th>\n",
       "      <th>days_inactive</th>\n",
       "      <th>num_visits</th>\n",
       "      <th>sum_transactionRevenue</th>\n",
       "      <th>hits</th>\n",
       "      <th>pageviews</th>\n",
       "      <th>timeOnSite</th>\n",
       "      <th>subcontinent</th>\n",
       "      <th>device_browser</th>\n",
       "      <th>device_operatingSystem</th>\n",
       "      <th>converted_label</th>\n",
       "    </tr>\n",
       "  </thead>\n",
       "  <tbody>\n",
       "    <tr>\n",
       "      <th>0</th>\n",
       "      <td>5.576035e+18</td>\n",
       "      <td>95</td>\n",
       "      <td>1</td>\n",
       "      <td>0.0</td>\n",
       "      <td>3</td>\n",
       "      <td>3</td>\n",
       "      <td>461</td>\n",
       "      <td>Southern Europe</td>\n",
       "      <td>Chrome</td>\n",
       "      <td>Windows</td>\n",
       "      <td>0</td>\n",
       "    </tr>\n",
       "    <tr>\n",
       "      <th>1</th>\n",
       "      <td>7.201047e+18</td>\n",
       "      <td>95</td>\n",
       "      <td>1</td>\n",
       "      <td>0.0</td>\n",
       "      <td>3</td>\n",
       "      <td>3</td>\n",
       "      <td>227</td>\n",
       "      <td>Eastern Asia</td>\n",
       "      <td>Opera</td>\n",
       "      <td>Windows</td>\n",
       "      <td>0</td>\n",
       "    </tr>\n",
       "    <tr>\n",
       "      <th>2</th>\n",
       "      <td>5.681465e+18</td>\n",
       "      <td>80</td>\n",
       "      <td>5</td>\n",
       "      <td>0.0</td>\n",
       "      <td>45</td>\n",
       "      <td>41</td>\n",
       "      <td>979</td>\n",
       "      <td>Western Europe</td>\n",
       "      <td>Chrome</td>\n",
       "      <td>Windows</td>\n",
       "      <td>0</td>\n",
       "    </tr>\n",
       "    <tr>\n",
       "      <th>3</th>\n",
       "      <td>5.387636e+17</td>\n",
       "      <td>95</td>\n",
       "      <td>1</td>\n",
       "      <td>0.0</td>\n",
       "      <td>5</td>\n",
       "      <td>5</td>\n",
       "      <td>52</td>\n",
       "      <td>Western Europe</td>\n",
       "      <td>Safari</td>\n",
       "      <td>Macintosh</td>\n",
       "      <td>0</td>\n",
       "    </tr>\n",
       "    <tr>\n",
       "      <th>4</th>\n",
       "      <td>6.901050e+18</td>\n",
       "      <td>95</td>\n",
       "      <td>2</td>\n",
       "      <td>0.0</td>\n",
       "      <td>7</td>\n",
       "      <td>7</td>\n",
       "      <td>144</td>\n",
       "      <td>Northern America</td>\n",
       "      <td>Safari</td>\n",
       "      <td>iOS</td>\n",
       "      <td>0</td>\n",
       "    </tr>\n",
       "  </tbody>\n",
       "</table>\n",
       "</div>"
      ],
      "text/plain": [
       "   fullVisitorId  days_inactive  num_visits  sum_transactionRevenue  hits  \\\n",
       "0   5.576035e+18             95           1                     0.0     3   \n",
       "1   7.201047e+18             95           1                     0.0     3   \n",
       "2   5.681465e+18             80           5                     0.0    45   \n",
       "3   5.387636e+17             95           1                     0.0     5   \n",
       "4   6.901050e+18             95           2                     0.0     7   \n",
       "\n",
       "   pageviews  timeOnSite      subcontinent device_browser  \\\n",
       "0          3         461   Southern Europe         Chrome   \n",
       "1          3         227      Eastern Asia          Opera   \n",
       "2         41         979    Western Europe         Chrome   \n",
       "3          5          52    Western Europe         Safari   \n",
       "4          7         144  Northern America         Safari   \n",
       "\n",
       "  device_operatingSystem  converted_label  \n",
       "0                Windows                0  \n",
       "1                Windows                0  \n",
       "2                Windows                0  \n",
       "3              Macintosh                0  \n",
       "4                    iOS                0  "
      ]
     },
     "execution_count": 648,
     "metadata": {},
     "output_type": "execute_result"
    }
   ],
   "source": [
    "#Importing Data\n",
    "import pandas as pd\n",
    "df = pd.read_csv('dse_training_data.csv')\n",
    "df.head()"
   ]
  },
  {
   "cell_type": "markdown",
   "metadata": {},
   "source": [
    "# Exploring data\n",
    "\n",
    "**Observations:**\n",
    "- The data has 144370 records. Only `subcontinent` and `device_operatingSystem` columns have some missing entries."
   ]
  },
  {
   "cell_type": "code",
   "execution_count": 649,
   "metadata": {},
   "outputs": [
    {
     "name": "stdout",
     "output_type": "stream",
     "text": [
      "<class 'pandas.core.frame.DataFrame'>\n",
      "RangeIndex: 144370 entries, 0 to 144369\n",
      "Data columns (total 11 columns):\n",
      " #   Column                  Non-Null Count   Dtype  \n",
      "---  ------                  --------------   -----  \n",
      " 0   fullVisitorId           144370 non-null  float64\n",
      " 1   days_inactive           144370 non-null  int64  \n",
      " 2   num_visits              144370 non-null  int64  \n",
      " 3   sum_transactionRevenue  144370 non-null  float64\n",
      " 4   hits                    144370 non-null  int64  \n",
      " 5   pageviews               144370 non-null  int64  \n",
      " 6   timeOnSite              144370 non-null  int64  \n",
      " 7   subcontinent            144205 non-null  object \n",
      " 8   device_browser          144370 non-null  object \n",
      " 9   device_operatingSystem  143712 non-null  object \n",
      " 10  converted_label         144370 non-null  int64  \n",
      "dtypes: float64(2), int64(6), object(3)\n",
      "memory usage: 12.1+ MB\n",
      "None\n"
     ]
    }
   ],
   "source": [
    "#Exploring columns\n",
    "print(df.info())"
   ]
  },
  {
   "cell_type": "code",
   "execution_count": 650,
   "metadata": {},
   "outputs": [
    {
     "data": {
      "text/plain": [
       "0    144146\n",
       "1       224\n",
       "Name: converted_label, dtype: int64"
      ]
     },
     "execution_count": 650,
     "metadata": {},
     "output_type": "execute_result"
    }
   ],
   "source": [
    "df.converted_label.value_counts()"
   ]
  },
  {
   "cell_type": "markdown",
   "metadata": {},
   "source": [
    "The above result shows a massive imbalance in the dataset. This needs to be addresses before making predictions. But first lets explore the different columns that this dataset has."
   ]
  },
  {
   "cell_type": "markdown",
   "metadata": {},
   "source": [
    "Let's make histograms to see if there is any column following gaussian distribution."
   ]
  },
  {
   "cell_type": "code",
   "execution_count": 651,
   "metadata": {},
   "outputs": [
    {
     "data": {
      "image/png": "[encoded data removed]",
      "text/plain": [
       "<Figure size 432x288 with 9 Axes>"
      ]
     },
     "metadata": {
      "needs_background": "light"
     },
     "output_type": "display_data"
    }
   ],
   "source": [
    "import matplotlib.pyplot as plt\n",
    "\n",
    "# drop the target variable\n",
    "temp_df= df.drop(columns=['converted_label'])\n",
    "\n",
    "# create a histogram plot of each numeric variable\n",
    "ax = temp_df.hist(bins=100)\n",
    "\n",
    "# disable axis labels to avoid the clutter\n",
    "for axis in ax.flatten():\n",
    "\taxis.set_xticklabels([])\n",
    "\taxis.set_yticklabels([])\n",
    "\n",
    "# show the plot\n",
    "plt.show()"
   ]
  },
  {
   "cell_type": "markdown",
   "metadata": {},
   "source": [
    "# Exploring data by each column\n",
    "\n",
    "### For `fullVisitorId` column:\n",
    "- It can be converted to integer for better accessibility."
   ]
  },
  {
   "cell_type": "code",
   "execution_count": 652,
   "metadata": {},
   "outputs": [],
   "source": [
    "def to_int(record):\n",
    "    try:\n",
    "        return int(record)\n",
    "    except:\n",
    "        print(f'Cannot convert the record {record}')\n",
    "        return record\n",
    "\n",
    "df.fullVisitorId = df.fullVisitorId.apply(to_int)"
   ]
  },
  {
   "cell_type": "code",
   "execution_count": 653,
   "metadata": {},
   "outputs": [
    {
     "name": "stdout",
     "output_type": "stream",
     "text": [
      "Length of dataset is 144370 and the total number of unique Visitor Ids are 139984.\n",
      "Percentage of unique visitor Ids as compared to full all visitors Ids is 96.96197270901156\n"
     ]
    }
   ],
   "source": [
    "l = len(df)\n",
    "n = df.fullVisitorId.nunique()\n",
    "print(f\"Length of dataset is {l} and the total number of unique Visitor Ids are {n}.\")\n",
    "print(f\"Percentage of unique visitor Ids as compared to full all visitors Ids is {(n/l)*100}\")"
   ]
  },
  {
   "cell_type": "markdown",
   "metadata": {},
   "source": [
    "- The above results shoes that there are as less as 3% users that have visited multiple times.\n",
    "- This shows that majority (~97%) of users have only visited the site for once in the time range (Aug. 1 2016 and Aug. 1 2017.) that the dataset is collected."
   ]
  },
  {
   "cell_type": "code",
   "execution_count": 654,
   "metadata": {},
   "outputs": [
    {
     "name": "stderr",
     "output_type": "stream",
     "text": [
      "C:\\Users\\Sahil\\AppData\\Local\\Programs\\Python\\Python38\\lib\\site-packages\\seaborn\\distributions.py:2619: FutureWarning: `distplot` is a deprecated function and will be removed in a future version. Please adapt your code to use either `displot` (a figure-level function with similar flexibility) or `histplot` (an axes-level function for histograms).\n",
      "  warnings.warn(msg, FutureWarning)\n"
     ]
    },
    {
     "data": {
      "text/plain": [
       "<AxesSubplot:xlabel='fullVisitorId', ylabel='Density'>"
      ]
     },
     "execution_count": 654,
     "metadata": {},
     "output_type": "execute_result"
    },
    {
     "data": {
      "image/png": "[encoded data removed]",
      "text/plain": [
       "<Figure size 432x288 with 1 Axes>"
      ]
     },
     "metadata": {
      "needs_background": "light"
     },
     "output_type": "display_data"
    }
   ],
   "source": [
    "import seaborn as sns\n",
    "sns.distplot(df.fullVisitorId, hist=True, kde=True, bins=200) "
   ]
  },
  {
   "cell_type": "markdown",
   "metadata": {},
   "source": [
    "- The density plot reveals a uniform distribution of the all the IDs. \n",
    "- Even those Ids that are present multiple times their only a very few are present 3 times or less."
   ]
  },
  {
   "cell_type": "code",
   "execution_count": 655,
   "metadata": {},
   "outputs": [
    {
     "data": {
      "text/plain": [
       "[3694234028523169792,\n",
       " 9127817804140120064,\n",
       " 8321333727030930432,\n",
       " 2252397032713459968,\n",
       " 8157072901125839872,\n",
       " 716776345712306944,\n",
       " 5852480886445299712,\n",
       " 9476348446859759616,\n",
       " 7177372988985249792,\n",
       " 7561014297963839488]"
      ]
     },
     "execution_count": 655,
     "metadata": {},
     "output_type": "execute_result"
    }
   ],
   "source": [
    "# Exploring the IDs that are present multiple times.\n",
    "temp_lst = df.fullVisitorId.value_counts()[:10].index.values.tolist()\n",
    "temp_lst\n"
   ]
  },
  {
   "cell_type": "code",
   "execution_count": 656,
   "metadata": {},
   "outputs": [
    {
     "data": {
      "text/html": [
       "<div>\n",
       "<style scoped>\n",
       "    .dataframe tbody tr th:only-of-type {\n",
       "        vertical-align: middle;\n",
       "    }\n",
       "\n",
       "    .dataframe tbody tr th {\n",
       "        vertical-align: top;\n",
       "    }\n",
       "\n",
       "    .dataframe thead th {\n",
       "        text-align: right;\n",
       "    }\n",
       "</style>\n",
       "<table border=\"1\" class=\"dataframe\">\n",
       "  <thead>\n",
       "    <tr style=\"text-align: right;\">\n",
       "      <th></th>\n",
       "      <th>fullVisitorId</th>\n",
       "      <th>days_inactive</th>\n",
       "      <th>num_visits</th>\n",
       "      <th>sum_transactionRevenue</th>\n",
       "      <th>hits</th>\n",
       "      <th>pageviews</th>\n",
       "      <th>timeOnSite</th>\n",
       "      <th>subcontinent</th>\n",
       "      <th>device_browser</th>\n",
       "      <th>device_operatingSystem</th>\n",
       "      <th>converted_label</th>\n",
       "    </tr>\n",
       "  </thead>\n",
       "  <tbody>\n",
       "    <tr>\n",
       "      <th>2579</th>\n",
       "      <td>3694234028523169792</td>\n",
       "      <td>17</td>\n",
       "      <td>56</td>\n",
       "      <td>0.0</td>\n",
       "      <td>319</td>\n",
       "      <td>276</td>\n",
       "      <td>28393</td>\n",
       "      <td>Northern America</td>\n",
       "      <td>Chrome</td>\n",
       "      <td>Windows</td>\n",
       "      <td>0</td>\n",
       "    </tr>\n",
       "    <tr>\n",
       "      <th>3978</th>\n",
       "      <td>3694234028523169792</td>\n",
       "      <td>7</td>\n",
       "      <td>24</td>\n",
       "      <td>0.0</td>\n",
       "      <td>109</td>\n",
       "      <td>89</td>\n",
       "      <td>5604</td>\n",
       "      <td>Northern America</td>\n",
       "      <td>Chrome</td>\n",
       "      <td>Windows</td>\n",
       "      <td>0</td>\n",
       "    </tr>\n",
       "    <tr>\n",
       "      <th>7185</th>\n",
       "      <td>3694234028523169792</td>\n",
       "      <td>26</td>\n",
       "      <td>4</td>\n",
       "      <td>0.0</td>\n",
       "      <td>13</td>\n",
       "      <td>11</td>\n",
       "      <td>1107</td>\n",
       "      <td>Northern America</td>\n",
       "      <td>Chrome</td>\n",
       "      <td>Windows</td>\n",
       "      <td>0</td>\n",
       "    </tr>\n",
       "    <tr>\n",
       "      <th>31046</th>\n",
       "      <td>3694234028523169792</td>\n",
       "      <td>100</td>\n",
       "      <td>6</td>\n",
       "      <td>0.0</td>\n",
       "      <td>101</td>\n",
       "      <td>65</td>\n",
       "      <td>2499</td>\n",
       "      <td>Northern America</td>\n",
       "      <td>Chrome</td>\n",
       "      <td>Windows</td>\n",
       "      <td>0</td>\n",
       "    </tr>\n",
       "    <tr>\n",
       "      <th>75410</th>\n",
       "      <td>3694234028523169792</td>\n",
       "      <td>70</td>\n",
       "      <td>2</td>\n",
       "      <td>0.0</td>\n",
       "      <td>13</td>\n",
       "      <td>13</td>\n",
       "      <td>3219</td>\n",
       "      <td>Northern America</td>\n",
       "      <td>Chrome</td>\n",
       "      <td>Windows</td>\n",
       "      <td>0</td>\n",
       "    </tr>\n",
       "  </tbody>\n",
       "</table>\n",
       "</div>"
      ],
      "text/plain": [
       "             fullVisitorId  days_inactive  num_visits  sum_transactionRevenue  \\\n",
       "2579   3694234028523169792             17          56                     0.0   \n",
       "3978   3694234028523169792              7          24                     0.0   \n",
       "7185   3694234028523169792             26           4                     0.0   \n",
       "31046  3694234028523169792            100           6                     0.0   \n",
       "75410  3694234028523169792             70           2                     0.0   \n",
       "\n",
       "       hits  pageviews  timeOnSite      subcontinent device_browser  \\\n",
       "2579    319        276       28393  Northern America         Chrome   \n",
       "3978    109         89        5604  Northern America         Chrome   \n",
       "7185     13         11        1107  Northern America         Chrome   \n",
       "31046   101         65        2499  Northern America         Chrome   \n",
       "75410    13         13        3219  Northern America         Chrome   \n",
       "\n",
       "      device_operatingSystem  converted_label  \n",
       "2579                 Windows                0  \n",
       "3978                 Windows                0  \n",
       "7185                 Windows                0  \n",
       "31046                Windows                0  \n",
       "75410                Windows                0  "
      ]
     },
     "execution_count": 656,
     "metadata": {},
     "output_type": "execute_result"
    }
   ],
   "source": [
    "df[df['fullVisitorId'] == 3694234028523169792]"
   ]
  },
  {
   "cell_type": "code",
   "execution_count": 657,
   "metadata": {},
   "outputs": [
    {
     "data": {
      "text/html": [
       "<div>\n",
       "<style scoped>\n",
       "    .dataframe tbody tr th:only-of-type {\n",
       "        vertical-align: middle;\n",
       "    }\n",
       "\n",
       "    .dataframe tbody tr th {\n",
       "        vertical-align: top;\n",
       "    }\n",
       "\n",
       "    .dataframe thead th {\n",
       "        text-align: right;\n",
       "    }\n",
       "</style>\n",
       "<table border=\"1\" class=\"dataframe\">\n",
       "  <thead>\n",
       "    <tr style=\"text-align: right;\">\n",
       "      <th></th>\n",
       "      <th>fullVisitorId</th>\n",
       "      <th>days_inactive</th>\n",
       "      <th>num_visits</th>\n",
       "      <th>sum_transactionRevenue</th>\n",
       "      <th>hits</th>\n",
       "      <th>pageviews</th>\n",
       "      <th>timeOnSite</th>\n",
       "      <th>subcontinent</th>\n",
       "      <th>device_browser</th>\n",
       "      <th>device_operatingSystem</th>\n",
       "      <th>converted_label</th>\n",
       "    </tr>\n",
       "  </thead>\n",
       "  <tbody>\n",
       "    <tr>\n",
       "      <th>6990</th>\n",
       "      <td>9127817804140120064</td>\n",
       "      <td>118</td>\n",
       "      <td>6</td>\n",
       "      <td>0.0</td>\n",
       "      <td>9</td>\n",
       "      <td>9</td>\n",
       "      <td>20</td>\n",
       "      <td>Northern America</td>\n",
       "      <td>Chrome</td>\n",
       "      <td>Macintosh</td>\n",
       "      <td>0</td>\n",
       "    </tr>\n",
       "    <tr>\n",
       "      <th>24593</th>\n",
       "      <td>9127817804140120064</td>\n",
       "      <td>114</td>\n",
       "      <td>3</td>\n",
       "      <td>0.0</td>\n",
       "      <td>14</td>\n",
       "      <td>14</td>\n",
       "      <td>469</td>\n",
       "      <td>Northern America</td>\n",
       "      <td>Chrome</td>\n",
       "      <td>Macintosh</td>\n",
       "      <td>0</td>\n",
       "    </tr>\n",
       "    <tr>\n",
       "      <th>53638</th>\n",
       "      <td>9127817804140120064</td>\n",
       "      <td>65</td>\n",
       "      <td>12</td>\n",
       "      <td>0.0</td>\n",
       "      <td>18</td>\n",
       "      <td>17</td>\n",
       "      <td>1946</td>\n",
       "      <td>Northern America</td>\n",
       "      <td>Chrome</td>\n",
       "      <td>Macintosh</td>\n",
       "      <td>0</td>\n",
       "    </tr>\n",
       "    <tr>\n",
       "      <th>68141</th>\n",
       "      <td>9127817804140120064</td>\n",
       "      <td>118</td>\n",
       "      <td>1</td>\n",
       "      <td>0.0</td>\n",
       "      <td>3</td>\n",
       "      <td>3</td>\n",
       "      <td>53</td>\n",
       "      <td>Northern America</td>\n",
       "      <td>Chrome</td>\n",
       "      <td>Macintosh</td>\n",
       "      <td>0</td>\n",
       "    </tr>\n",
       "  </tbody>\n",
       "</table>\n",
       "</div>"
      ],
      "text/plain": [
       "             fullVisitorId  days_inactive  num_visits  sum_transactionRevenue  \\\n",
       "6990   9127817804140120064            118           6                     0.0   \n",
       "24593  9127817804140120064            114           3                     0.0   \n",
       "53638  9127817804140120064             65          12                     0.0   \n",
       "68141  9127817804140120064            118           1                     0.0   \n",
       "\n",
       "       hits  pageviews  timeOnSite      subcontinent device_browser  \\\n",
       "6990      9          9          20  Northern America         Chrome   \n",
       "24593    14         14         469  Northern America         Chrome   \n",
       "53638    18         17        1946  Northern America         Chrome   \n",
       "68141     3          3          53  Northern America         Chrome   \n",
       "\n",
       "      device_operatingSystem  converted_label  \n",
       "6990               Macintosh                0  \n",
       "24593              Macintosh                0  \n",
       "53638              Macintosh                0  \n",
       "68141              Macintosh                0  "
      ]
     },
     "execution_count": 657,
     "metadata": {},
     "output_type": "execute_result"
    }
   ],
   "source": [
    "df[df['fullVisitorId'] == 9127817804140120064]"
   ]
  },
  {
   "cell_type": "code",
   "execution_count": 658,
   "metadata": {},
   "outputs": [
    {
     "data": {
      "text/html": [
       "<div>\n",
       "<style scoped>\n",
       "    .dataframe tbody tr th:only-of-type {\n",
       "        vertical-align: middle;\n",
       "    }\n",
       "\n",
       "    .dataframe tbody tr th {\n",
       "        vertical-align: top;\n",
       "    }\n",
       "\n",
       "    .dataframe thead th {\n",
       "        text-align: right;\n",
       "    }\n",
       "</style>\n",
       "<table border=\"1\" class=\"dataframe\">\n",
       "  <thead>\n",
       "    <tr style=\"text-align: right;\">\n",
       "      <th></th>\n",
       "      <th>fullVisitorId</th>\n",
       "      <th>days_inactive</th>\n",
       "      <th>num_visits</th>\n",
       "      <th>sum_transactionRevenue</th>\n",
       "      <th>hits</th>\n",
       "      <th>pageviews</th>\n",
       "      <th>timeOnSite</th>\n",
       "      <th>subcontinent</th>\n",
       "      <th>device_browser</th>\n",
       "      <th>device_operatingSystem</th>\n",
       "      <th>converted_label</th>\n",
       "    </tr>\n",
       "  </thead>\n",
       "  <tbody>\n",
       "    <tr>\n",
       "      <th>16637</th>\n",
       "      <td>8321333727030930432</td>\n",
       "      <td>36</td>\n",
       "      <td>2</td>\n",
       "      <td>0.0</td>\n",
       "      <td>3</td>\n",
       "      <td>3</td>\n",
       "      <td>32</td>\n",
       "      <td>Northern America</td>\n",
       "      <td>Chrome</td>\n",
       "      <td>Windows</td>\n",
       "      <td>0</td>\n",
       "    </tr>\n",
       "    <tr>\n",
       "      <th>56721</th>\n",
       "      <td>8321333727030930432</td>\n",
       "      <td>63</td>\n",
       "      <td>1</td>\n",
       "      <td>0.0</td>\n",
       "      <td>4</td>\n",
       "      <td>4</td>\n",
       "      <td>237</td>\n",
       "      <td>Northern America</td>\n",
       "      <td>Chrome</td>\n",
       "      <td>Windows</td>\n",
       "      <td>0</td>\n",
       "    </tr>\n",
       "    <tr>\n",
       "      <th>62550</th>\n",
       "      <td>8321333727030930432</td>\n",
       "      <td>50</td>\n",
       "      <td>1</td>\n",
       "      <td>0.0</td>\n",
       "      <td>7</td>\n",
       "      <td>6</td>\n",
       "      <td>135</td>\n",
       "      <td>Northern America</td>\n",
       "      <td>Chrome</td>\n",
       "      <td>Windows</td>\n",
       "      <td>0</td>\n",
       "    </tr>\n",
       "    <tr>\n",
       "      <th>103089</th>\n",
       "      <td>8321333727030930432</td>\n",
       "      <td>30</td>\n",
       "      <td>1</td>\n",
       "      <td>0.0</td>\n",
       "      <td>2</td>\n",
       "      <td>2</td>\n",
       "      <td>143</td>\n",
       "      <td>Northern America</td>\n",
       "      <td>Chrome</td>\n",
       "      <td>Windows</td>\n",
       "      <td>0</td>\n",
       "    </tr>\n",
       "  </tbody>\n",
       "</table>\n",
       "</div>"
      ],
      "text/plain": [
       "              fullVisitorId  days_inactive  num_visits  \\\n",
       "16637   8321333727030930432             36           2   \n",
       "56721   8321333727030930432             63           1   \n",
       "62550   8321333727030930432             50           1   \n",
       "103089  8321333727030930432             30           1   \n",
       "\n",
       "        sum_transactionRevenue  hits  pageviews  timeOnSite      subcontinent  \\\n",
       "16637                      0.0     3          3          32  Northern America   \n",
       "56721                      0.0     4          4         237  Northern America   \n",
       "62550                      0.0     7          6         135  Northern America   \n",
       "103089                     0.0     2          2         143  Northern America   \n",
       "\n",
       "       device_browser device_operatingSystem  converted_label  \n",
       "16637          Chrome                Windows                0  \n",
       "56721          Chrome                Windows                0  \n",
       "62550          Chrome                Windows                0  \n",
       "103089         Chrome                Windows                0  "
      ]
     },
     "execution_count": 658,
     "metadata": {},
     "output_type": "execute_result"
    }
   ],
   "source": [
    "df[df['fullVisitorId'] == 8321333727030930432]"
   ]
  },
  {
   "cell_type": "markdown",
   "metadata": {},
   "source": [
    "- Looking at the above records it seems that the records are fine and there is no major problem.\n",
    "\n",
    "**However since our job is to predict the conversion of the customer, the Ids dont play a significant role in the the prediction problem. Hence the column can be disregarded for prediction.**"
   ]
  },
  {
   "cell_type": "markdown",
   "metadata": {},
   "source": [
    "### For `days_inactive` column"
   ]
  },
  {
   "cell_type": "code",
   "execution_count": 659,
   "metadata": {},
   "outputs": [
    {
     "data": {
      "text/plain": [
       "[95, 95, 80, 95, 95, 95, 95, 86, 95, 95, 95, 53, 95, 15, 85]"
      ]
     },
     "execution_count": 659,
     "metadata": {},
     "output_type": "execute_result"
    }
   ],
   "source": [
    "df.days_inactive.tolist()[:15]"
   ]
  },
  {
   "cell_type": "code",
   "execution_count": 660,
   "metadata": {},
   "outputs": [
    {
     "name": "stderr",
     "output_type": "stream",
     "text": [
      "C:\\Users\\Sahil\\AppData\\Local\\Programs\\Python\\Python38\\lib\\site-packages\\seaborn\\distributions.py:2619: FutureWarning: `distplot` is a deprecated function and will be removed in a future version. Please adapt your code to use either `displot` (a figure-level function with similar flexibility) or `histplot` (an axes-level function for histograms).\n",
      "  warnings.warn(msg, FutureWarning)\n"
     ]
    },
    {
     "data": {
      "text/plain": [
       "<AxesSubplot:xlabel='days_inactive', ylabel='Density'>"
      ]
     },
     "execution_count": 660,
     "metadata": {},
     "output_type": "execute_result"
    },
    {
     "data": {
      "image/png": "[encoded data removed]",
      "text/plain": [
       "<Figure size 432x288 with 1 Axes>"
      ]
     },
     "metadata": {
      "needs_background": "light"
     },
     "output_type": "display_data"
    }
   ],
   "source": [
    "# Drawing the densiy plot to see the distribution\n",
    "sns.distplot(df.days_inactive, hist=True, kde=True, bins=200) \n"
   ]
  },
  {
   "cell_type": "markdown",
   "metadata": {},
   "source": [
    "- The density plot reveals the uniform distribution of the `days_inactive` column data.\n",
    "- It would be interesting to see if the distribution is the same for the records that were converted."
   ]
  },
  {
   "cell_type": "code",
   "execution_count": 661,
   "metadata": {},
   "outputs": [
    {
     "name": "stderr",
     "output_type": "stream",
     "text": [
      "C:\\Users\\Sahil\\AppData\\Local\\Programs\\Python\\Python38\\lib\\site-packages\\seaborn\\distributions.py:2619: FutureWarning: `distplot` is a deprecated function and will be removed in a future version. Please adapt your code to use either `displot` (a figure-level function with similar flexibility) or `histplot` (an axes-level function for histograms).\n",
      "  warnings.warn(msg, FutureWarning)\n"
     ]
    },
    {
     "name": "stdout",
     "output_type": "stream",
     "text": [
      "AxesSubplot(0.125,0.125;0.775x0.755)\n"
     ]
    },
    {
     "data": {
      "image/png": "[encoded data removed]",
      "text/plain": [
       "<Figure size 432x288 with 1 Axes>"
      ]
     },
     "metadata": {
      "needs_background": "light"
     },
     "output_type": "display_data"
    }
   ],
   "source": [
    "temp_df = df[df['converted_label'] == 1]\n",
    "print(sns.distplot(temp_df.days_inactive, hist=True, kde=True, bins=200) )\n"
   ]
  },
  {
   "cell_type": "markdown",
   "metadata": {},
   "source": [
    "**It should be noticed that there is a skewness in the above dennsity plot. This means that for the converted costomers have less days of inactivity in comparision to the non converted ones.**\n",
    "\n",
    "Because of this, the `days_inactive` column can be considered as a contributing feature for the the customer conversion prediction problem."
   ]
  },
  {
   "cell_type": "code",
   "execution_count": 662,
   "metadata": {},
   "outputs": [
    {
     "name": "stdout",
     "output_type": "stream",
     "text": [
      "0 to 5% of data points lie in the range of 1.0 to 8.0\n",
      "5 to 10% of data points lie in the range of 8.0 to 14.0\n",
      "10 to 15% of data points lie in the range of 14.0 to 21.0\n",
      "15 to 20% of data points lie in the range of 21.0 to 29.0\n",
      "20 to 25% of data points lie in the range of 29.0 to 36.0\n",
      "25 to 30% of data points lie in the range of 36.0 to 44.0\n",
      "30 to 35% of data points lie in the range of 44.0 to 52.0\n",
      "35 to 40% of data points lie in the range of 52.0 to 59.0\n",
      "40 to 45% of data points lie in the range of 59.0 to 66.0\n",
      "45 to 50% of data points lie in the range of 66.0 to 73.0\n",
      "50 to 55% of data points lie in the range of 73.0 to 81.0\n",
      "55 to 60% of data points lie in the range of 81.0 to 89.0\n",
      "60 to 65% of data points lie in the range of 89.0 to 97.0\n",
      "65 to 70% of data points lie in the range of 97.0 to 104.0\n",
      "70 to 75% of data points lie in the range of 104.0 to 112.0\n",
      "75 to 80% of data points lie in the range of 112.0 to 120.0\n",
      "80 to 85% of data points lie in the range of 120.0 to 127.0\n",
      "85 to 90% of data points lie in the range of 127.0 to 134.0\n",
      "90 to 95% of data points lie in the range of 134.0 to 143.0\n",
      "95 to 100% of data points lie in the range of 143.0 to 151.0\n"
     ]
    }
   ],
   "source": [
    "def range_finder(series):\n",
    "    for i in range(20):\n",
    "        try:\n",
    "            print(f\"{i*5} to {(i+1)*5}% of data points lie in the range of {np.percentile(series, q = i*5)} to {np.percentile(series, q = (i+1)*5)}\")\n",
    "        except:\n",
    "            print(f\"Cant find range in {i*5} to {(i+1)*5}%\")\n",
    "range_finder(df.days_inactive)"
   ]
  },
  {
   "cell_type": "markdown",
   "metadata": {},
   "source": [
    "**Removing outliers**\n",
    "\n",
    "- Since we have a high data imbalnce we will remover outliers from only the 0 label and as for the records with label as 1 we will limit their values."
   ]
  },
  {
   "cell_type": "code",
   "execution_count": 663,
   "metadata": {},
   "outputs": [],
   "source": [
    "temp_df_label_0 = df[df['converted_label'] == 0]\n",
    "temp_df_label_1 = df[df['converted_label'] == 1]"
   ]
  },
  {
   "cell_type": "code",
   "execution_count": 664,
   "metadata": {},
   "outputs": [
    {
     "name": "stdout",
     "output_type": "stream",
     "text": [
      "Stats:\n",
      "Mean value = 74.28995601681628\n",
      "Standard deviation = 43.44778023000328\n",
      "Threshold (Standard deviation *3) = 130.34334069000985\n",
      "Lower range = -56.05338467319358\n",
      "Upper range = 204.63329670682612\n",
      "Max value = 151\n"
     ]
    }
   ],
   "source": [
    "import numpy as np\n",
    "\n",
    "def get_stats(series):\n",
    "    try:\n",
    "        temp_mean = np.mean(series)\n",
    "        temp_std = np.std(series)\n",
    "        temp_threshold = temp_std*3\n",
    "        temp_lower, temp_upper = temp_mean - temp_threshold , temp_mean + temp_threshold\n",
    "        print(f\"Stats:\\nMean value = {temp_mean}\\nStandard deviation = {temp_std}\\nThreshold (Standard deviation *3) = {temp_threshold}\\nLower range = {temp_lower}\\nUpper range = {temp_upper}\\nMax value = {max(series.tolist())}\")\n",
    "        return temp_mean, temp_std, temp_threshold, temp_lower, temp_upper\n",
    "    except:\n",
    "        print(\"Cannot Get the stats\")\n",
    "        return None, None, None, None, None\n",
    "\n",
    "\n",
    "temp_mean, temp_std, temp_threshold, temp_lower, temp_upper = get_stats(temp_df_label_0.days_inactive)"
   ]
  },
  {
   "cell_type": "markdown",
   "metadata": {},
   "source": [
    "Since lower range has a negative value we would only use the upper range for filter."
   ]
  },
  {
   "cell_type": "code",
   "execution_count": 665,
   "metadata": {},
   "outputs": [
    {
     "data": {
      "text/plain": [
       "151"
      ]
     },
     "execution_count": 665,
     "metadata": {},
     "output_type": "execute_result"
    }
   ],
   "source": [
    "max(temp_df_label_0.days_inactive.tolist())"
   ]
  },
  {
   "cell_type": "markdown",
   "metadata": {},
   "source": [
    "Since the max value in the column is less than the upper limit for outliers there are not outliers beyoind stanndard deviation *3."
   ]
  },
  {
   "cell_type": "code",
   "execution_count": 666,
   "metadata": {},
   "outputs": [
    {
     "name": "stdout",
     "output_type": "stream",
     "text": [
      "Stats:\n",
      "Mean value = 24.776785714285715\n",
      "Standard deviation = 30.55329355096148\n",
      "Threshold (Standard deviation *3) = 91.65988065288444\n",
      "Lower range = -66.88309493859873\n",
      "Upper range = 116.43666636717015\n",
      "Max value = 148\n"
     ]
    }
   ],
   "source": [
    "temp_mean, temp_std, temp_threshold, temp_lower, temp_upper = get_stats(temp_df_label_1.days_inactive)"
   ]
  },
  {
   "cell_type": "code",
   "execution_count": 667,
   "metadata": {},
   "outputs": [
    {
     "data": {
      "text/plain": [
       "151"
      ]
     },
     "execution_count": 667,
     "metadata": {},
     "output_type": "execute_result"
    }
   ],
   "source": [
    "max(temp_df_label_0.days_inactive.tolist())"
   ]
  },
  {
   "cell_type": "code",
   "execution_count": 668,
   "metadata": {},
   "outputs": [],
   "source": [
    "#Limiting outliers for label 1\n",
    "df.loc[temp_df_label_1[temp_df_label_1.days_inactive > temp_upper].index, 'days_inactive'] = temp_upper"
   ]
  },
  {
   "cell_type": "code",
   "execution_count": 669,
   "metadata": {},
   "outputs": [
    {
     "name": "stderr",
     "output_type": "stream",
     "text": [
      "C:\\Users\\Sahil\\AppData\\Local\\Programs\\Python\\Python38\\lib\\site-packages\\seaborn\\distributions.py:2619: FutureWarning: `distplot` is a deprecated function and will be removed in a future version. Please adapt your code to use either `displot` (a figure-level function with similar flexibility) or `histplot` (an axes-level function for histograms).\n",
      "  warnings.warn(msg, FutureWarning)\n"
     ]
    },
    {
     "name": "stdout",
     "output_type": "stream",
     "text": [
      "AxesSubplot(0.125,0.125;0.775x0.755)\n"
     ]
    },
    {
     "data": {
      "image/png": "[encoded data removed]",
      "text/plain": [
       "<Figure size 432x288 with 1 Axes>"
      ]
     },
     "metadata": {
      "needs_background": "light"
     },
     "output_type": "display_data"
    }
   ],
   "source": [
    "print(sns.distplot(df[df['converted_label'] == 1].days_inactive, hist=True, kde=True, bins=200) )"
   ]
  },
  {
   "cell_type": "markdown",
   "metadata": {},
   "source": [
    "### For `num_visits` column"
   ]
  },
  {
   "cell_type": "code",
   "execution_count": 670,
   "metadata": {},
   "outputs": [
    {
     "data": {
      "text/plain": [
       "1     111294\n",
       "2      21792\n",
       "3       5851\n",
       "4       2380\n",
       "5       1157\n",
       "6        582\n",
       "7        363\n",
       "8        240\n",
       "9        171\n",
       "10       127\n",
       "11        85\n",
       "12        70\n",
       "13        48\n",
       "14        31\n",
       "15        19\n",
       "Name: num_visits, dtype: int64"
      ]
     },
     "execution_count": 670,
     "metadata": {},
     "output_type": "execute_result"
    }
   ],
   "source": [
    "df.num_visits.value_counts()[:15]"
   ]
  },
  {
   "cell_type": "code",
   "execution_count": 671,
   "metadata": {},
   "outputs": [
    {
     "data": {
      "text/plain": [
       "1     116\n",
       "2      40\n",
       "3      16\n",
       "4      13\n",
       "6       8\n",
       "8       8\n",
       "5       6\n",
       "7       4\n",
       "15      3\n",
       "14      1\n",
       "46      1\n",
       "34      1\n",
       "27      1\n",
       "10      1\n",
       "13      1\n",
       "Name: num_visits, dtype: int64"
      ]
     },
     "execution_count": 671,
     "metadata": {},
     "output_type": "execute_result"
    }
   ],
   "source": [
    "temp_df_label_1.num_visits.value_counts()[:15]"
   ]
  },
  {
   "cell_type": "markdown",
   "metadata": {},
   "source": [
    "- The above observations reveal that the data has a high skewness. A skewness can be removed with power transformations. \n",
    "- Spacy module in python provides a boxcox method that performs the transformation in a way that the data becomes gaussian or uniform distribution."
   ]
  },
  {
   "cell_type": "markdown",
   "metadata": {},
   "source": [
    "Finding outliers"
   ]
  },
  {
   "cell_type": "code",
   "execution_count": 672,
   "metadata": {},
   "outputs": [
    {
     "name": "stdout",
     "output_type": "stream",
     "text": [
      "Stats:\n",
      "Mean value = 1.424396098400233\n",
      "Standard deviation = 1.4420879550646464\n",
      "Threshold (Standard deviation *3) = 4.326263865193939\n",
      "Lower range = -2.9018677667937056\n",
      "Upper range = 5.750659963594172\n",
      "Max value = 110\n"
     ]
    }
   ],
   "source": [
    "#Finidng and removing outliers for num_visits for label 0\n",
    "temp_mean, temp_std, temp_threshold, temp_lower, temp_upper = get_stats(temp_df_label_0.num_visits)"
   ]
  },
  {
   "cell_type": "markdown",
   "metadata": {},
   "source": [
    "Since max value is more than upper range we can remove outliers. "
   ]
  },
  {
   "cell_type": "code",
   "execution_count": 673,
   "metadata": {},
   "outputs": [],
   "source": [
    "df.drop(index = temp_df_label_0[temp_df_label_0.num_visits > temp_upper].index, inplace=True)"
   ]
  },
  {
   "cell_type": "code",
   "execution_count": 674,
   "metadata": {},
   "outputs": [],
   "source": [
    "df.reset_index(inplace=True, drop = True)"
   ]
  },
  {
   "cell_type": "code",
   "execution_count": 675,
   "metadata": {},
   "outputs": [
    {
     "name": "stdout",
     "output_type": "stream",
     "text": [
      "Length of dataset after dropping is 142507\n"
     ]
    }
   ],
   "source": [
    "print(f\"Length of dataset after dropping is {len(df)}\")"
   ]
  },
  {
   "cell_type": "code",
   "execution_count": 676,
   "metadata": {},
   "outputs": [],
   "source": [
    "def get_label_seperated_dfs(df):\n",
    "    return df[df['converted_label'] == 0], df[df['converted_label'] == 1]\n",
    "temp_df_label_0, temp_df_label_1 = get_label_seperated_dfs(df)"
   ]
  },
  {
   "cell_type": "code",
   "execution_count": 677,
   "metadata": {},
   "outputs": [
    {
     "name": "stdout",
     "output_type": "stream",
     "text": [
      "Stats:\n",
      "Mean value = 3.3660714285714284\n",
      "Standard deviation = 6.412871453616721\n",
      "Threshold (Standard deviation *3) = 19.238614360850164\n",
      "Lower range = -15.872542932278735\n",
      "Upper range = 22.60468578942159\n",
      "Max value = 67\n"
     ]
    }
   ],
   "source": [
    "#finding outliers for label 1\n",
    "temp_mean, temp_std, temp_threshold, temp_lower, temp_upper = get_stats(temp_df_label_1.num_visits)"
   ]
  },
  {
   "cell_type": "code",
   "execution_count": 678,
   "metadata": {},
   "outputs": [],
   "source": [
    "#limiting the values for outliers\n",
    "\n",
    "df.loc[temp_df_label_1[temp_df_label_1.num_visits > temp_upper].index, 'num_visits'] = temp_upper"
   ]
  },
  {
   "cell_type": "code",
   "execution_count": 679,
   "metadata": {},
   "outputs": [
    {
     "name": "stdout",
     "output_type": "stream",
     "text": [
      "The best value of the factor that boxcox determined for removing the skewness is -4.854717355295847.\n"
     ]
    },
    {
     "data": {
      "text/plain": [
       "[<matplotlib.lines.Line2D at 0x24d5d4e5fa0>]"
      ]
     },
     "execution_count": 679,
     "metadata": {},
     "output_type": "execute_result"
    },
    {
     "data": {
      "image/png": "[encoded data removed]",
      "text/plain": [
       "<Figure size 432x288 with 1 Axes>"
      ]
     },
     "metadata": {
      "needs_background": "light"
     },
     "output_type": "display_data"
    }
   ],
   "source": [
    "from scipy.stats import boxcox\n",
    "import matplotlib.pyplot as plt\n",
    "\n",
    "bx, lam = boxcox(df['num_visits'])\n",
    "print(f'The best value of the factor that boxcox determined for removing the skewness is {lam}.')\n",
    "plt.plot(bx[:100])\n"
   ]
  },
  {
   "cell_type": "code",
   "execution_count": 680,
   "metadata": {},
   "outputs": [
    {
     "data": {
      "text/plain": [
       "[<matplotlib.lines.Line2D at 0x24d5d54a5b0>]"
      ]
     },
     "execution_count": 680,
     "metadata": {},
     "output_type": "execute_result"
    },
    {
     "data": {
      "image/png": "[encoded data removed]",
      "text/plain": [
       "<Figure size 432x288 with 1 Axes>"
      ]
     },
     "metadata": {
      "needs_background": "light"
     },
     "output_type": "display_data"
    }
   ],
   "source": [
    "temp_bx, temp_lm = boxcox(temp_df['num_visits'])\n",
    "plt.plot(temp_bx)"
   ]
  },
  {
   "cell_type": "markdown",
   "metadata": {},
   "source": [
    "- Note that since the transformed distribution is uniform, it may become useless for model prediction. We will store this as a seperate column in our dataset and see later if there is really any contribution of this transformed column in prediction or not."
   ]
  },
  {
   "cell_type": "code",
   "execution_count": 681,
   "metadata": {},
   "outputs": [
    {
     "data": {
      "text/html": [
       "<div>\n",
       "<style scoped>\n",
       "    .dataframe tbody tr th:only-of-type {\n",
       "        vertical-align: middle;\n",
       "    }\n",
       "\n",
       "    .dataframe tbody tr th {\n",
       "        vertical-align: top;\n",
       "    }\n",
       "\n",
       "    .dataframe thead th {\n",
       "        text-align: right;\n",
       "    }\n",
       "</style>\n",
       "<table border=\"1\" class=\"dataframe\">\n",
       "  <thead>\n",
       "    <tr style=\"text-align: right;\">\n",
       "      <th></th>\n",
       "      <th>fullVisitorId</th>\n",
       "      <th>days_inactive</th>\n",
       "      <th>num_visits</th>\n",
       "      <th>sum_transactionRevenue</th>\n",
       "      <th>hits</th>\n",
       "      <th>pageviews</th>\n",
       "      <th>timeOnSite</th>\n",
       "      <th>subcontinent</th>\n",
       "      <th>device_browser</th>\n",
       "      <th>device_operatingSystem</th>\n",
       "      <th>converted_label</th>\n",
       "      <th>num_visits_transformed</th>\n",
       "    </tr>\n",
       "  </thead>\n",
       "  <tbody>\n",
       "    <tr>\n",
       "      <th>0</th>\n",
       "      <td>5576035078968099840</td>\n",
       "      <td>95.0</td>\n",
       "      <td>1.0</td>\n",
       "      <td>0.0</td>\n",
       "      <td>3</td>\n",
       "      <td>3</td>\n",
       "      <td>461</td>\n",
       "      <td>Southern Europe</td>\n",
       "      <td>Chrome</td>\n",
       "      <td>Windows</td>\n",
       "      <td>0</td>\n",
       "      <td>0.000000</td>\n",
       "    </tr>\n",
       "    <tr>\n",
       "      <th>1</th>\n",
       "      <td>7201046511999320064</td>\n",
       "      <td>95.0</td>\n",
       "      <td>1.0</td>\n",
       "      <td>0.0</td>\n",
       "      <td>3</td>\n",
       "      <td>3</td>\n",
       "      <td>227</td>\n",
       "      <td>Eastern Asia</td>\n",
       "      <td>Opera</td>\n",
       "      <td>Windows</td>\n",
       "      <td>0</td>\n",
       "      <td>0.000000</td>\n",
       "    </tr>\n",
       "    <tr>\n",
       "      <th>2</th>\n",
       "      <td>5681465454867810304</td>\n",
       "      <td>80.0</td>\n",
       "      <td>5.0</td>\n",
       "      <td>0.0</td>\n",
       "      <td>45</td>\n",
       "      <td>41</td>\n",
       "      <td>979</td>\n",
       "      <td>Western Europe</td>\n",
       "      <td>Chrome</td>\n",
       "      <td>Windows</td>\n",
       "      <td>0</td>\n",
       "      <td>0.205902</td>\n",
       "    </tr>\n",
       "    <tr>\n",
       "      <th>3</th>\n",
       "      <td>538763607569025984</td>\n",
       "      <td>95.0</td>\n",
       "      <td>1.0</td>\n",
       "      <td>0.0</td>\n",
       "      <td>5</td>\n",
       "      <td>5</td>\n",
       "      <td>52</td>\n",
       "      <td>Western Europe</td>\n",
       "      <td>Safari</td>\n",
       "      <td>Macintosh</td>\n",
       "      <td>0</td>\n",
       "      <td>0.000000</td>\n",
       "    </tr>\n",
       "    <tr>\n",
       "      <th>4</th>\n",
       "      <td>6901049768533789696</td>\n",
       "      <td>95.0</td>\n",
       "      <td>2.0</td>\n",
       "      <td>0.0</td>\n",
       "      <td>7</td>\n",
       "      <td>7</td>\n",
       "      <td>144</td>\n",
       "      <td>Northern America</td>\n",
       "      <td>Safari</td>\n",
       "      <td>iOS</td>\n",
       "      <td>0</td>\n",
       "      <td>0.198866</td>\n",
       "    </tr>\n",
       "  </tbody>\n",
       "</table>\n",
       "</div>"
      ],
      "text/plain": [
       "         fullVisitorId  days_inactive  num_visits  sum_transactionRevenue  \\\n",
       "0  5576035078968099840           95.0         1.0                     0.0   \n",
       "1  7201046511999320064           95.0         1.0                     0.0   \n",
       "2  5681465454867810304           80.0         5.0                     0.0   \n",
       "3   538763607569025984           95.0         1.0                     0.0   \n",
       "4  6901049768533789696           95.0         2.0                     0.0   \n",
       "\n",
       "   hits  pageviews  timeOnSite      subcontinent device_browser  \\\n",
       "0     3          3         461   Southern Europe         Chrome   \n",
       "1     3          3         227      Eastern Asia          Opera   \n",
       "2    45         41         979    Western Europe         Chrome   \n",
       "3     5          5          52    Western Europe         Safari   \n",
       "4     7          7         144  Northern America         Safari   \n",
       "\n",
       "  device_operatingSystem  converted_label  num_visits_transformed  \n",
       "0                Windows                0                0.000000  \n",
       "1                Windows                0                0.000000  \n",
       "2                Windows                0                0.205902  \n",
       "3              Macintosh                0                0.000000  \n",
       "4                    iOS                0                0.198866  "
      ]
     },
     "execution_count": 681,
     "metadata": {},
     "output_type": "execute_result"
    }
   ],
   "source": [
    "df['num_visits_transformed'] = bx\n",
    "df.head()"
   ]
  },
  {
   "cell_type": "markdown",
   "metadata": {},
   "source": [
    "### For `sum_transactionRevenue` column"
   ]
  },
  {
   "cell_type": "code",
   "execution_count": 682,
   "metadata": {},
   "outputs": [
    {
     "data": {
      "text/plain": [
       "0    0.0\n",
       "1    0.0\n",
       "2    0.0\n",
       "3    0.0\n",
       "4    0.0\n",
       "5    0.0\n",
       "6    0.0\n",
       "7    0.0\n",
       "8    0.0\n",
       "9    0.0\n",
       "Name: sum_transactionRevenue, dtype: float64"
      ]
     },
     "execution_count": 682,
     "metadata": {},
     "output_type": "execute_result"
    }
   ],
   "source": [
    "df.sum_transactionRevenue[:10]"
   ]
  },
  {
   "cell_type": "code",
   "execution_count": 683,
   "metadata": {},
   "outputs": [
    {
     "data": {
      "text/plain": [
       "<matplotlib.collections.PathCollection at 0x24d667932b0>"
      ]
     },
     "execution_count": 683,
     "metadata": {},
     "output_type": "execute_result"
    },
    {
     "data": {
      "image/png": "[encoded data removed]",
      "text/plain": [
       "<Figure size 432x288 with 1 Axes>"
      ]
     },
     "metadata": {
      "needs_background": "light"
     },
     "output_type": "display_data"
    }
   ],
   "source": [
    "plt.scatter(x = df.index.values.tolist(), y = df.sum_transactionRevenue, c=df.converted_label, alpha = 0.6, s=10)"
   ]
  },
  {
   "cell_type": "code",
   "execution_count": 684,
   "metadata": {},
   "outputs": [
    {
     "data": {
      "text/plain": [
       "<AxesSubplot:>"
      ]
     },
     "execution_count": 684,
     "metadata": {},
     "output_type": "execute_result"
    },
    {
     "data": {
      "image/png": "[encoded data removed]",
      "text/plain": [
       "<Figure size 432x288 with 1 Axes>"
      ]
     },
     "metadata": {
      "needs_background": "light"
     },
     "output_type": "display_data"
    }
   ],
   "source": [
    "temp_df_label_0.sum_transactionRevenue.plot(style = '.k')"
   ]
  },
  {
   "cell_type": "code",
   "execution_count": 685,
   "metadata": {},
   "outputs": [
    {
     "data": {
      "text/plain": [
       "<AxesSubplot:>"
      ]
     },
     "execution_count": 685,
     "metadata": {},
     "output_type": "execute_result"
    },
    {
     "data": {
      "image/png": "[encoded data removed]",
      "text/plain": [
       "<Figure size 432x288 with 1 Axes>"
      ]
     },
     "metadata": {
      "needs_background": "light"
     },
     "output_type": "display_data"
    }
   ],
   "source": [
    "temp_df_label_1.sum_transactionRevenue.plot(style = '.k')"
   ]
  },
  {
   "cell_type": "code",
   "execution_count": 686,
   "metadata": {},
   "outputs": [
    {
     "name": "stdout",
     "output_type": "stream",
     "text": [
      "non-zero sum transactions percentage for label 1 is 28.57142857142857\n",
      "non-zero sum transactions percentage for label 0 is 2.393820765657176\n"
     ]
    }
   ],
   "source": [
    "non_zero_transactions_percentage_for_label_1 = (len(temp_df_label_1[temp_df_label_1.sum_transactionRevenue != 0])/len(temp_df_label_1)) *100\n",
    "print(\"non-zero sum transactions percentage for label 1 is\", non_zero_transactions_percentage_for_label_1)\n",
    "\n",
    "non_zero_transactions_percentage_for_label_0 = (len(temp_df_label_0[temp_df_label_0.sum_transactionRevenue != 0])/len(temp_df_label_0)) *100\n",
    "print(\"non-zero sum transactions percentage for label 0 is\", non_zero_transactions_percentage_for_label_0)"
   ]
  },
  {
   "cell_type": "code",
   "execution_count": 687,
   "metadata": {},
   "outputs": [
    {
     "data": {
      "text/plain": [
       "count    142507.000000\n",
       "mean          0.332703\n",
       "std          15.192785\n",
       "min           0.000000\n",
       "25%           0.000000\n",
       "50%           0.000000\n",
       "75%           0.000000\n",
       "max        5135.181000\n",
       "Name: sum_transactionRevenue, dtype: float64"
      ]
     },
     "execution_count": 687,
     "metadata": {},
     "output_type": "execute_result"
    }
   ],
   "source": [
    "df.sum_transactionRevenue.describe()"
   ]
  },
  {
   "cell_type": "code",
   "execution_count": 688,
   "metadata": {},
   "outputs": [
    {
     "data": {
      "text/plain": [
       "count     224.000000\n",
       "mean       42.796812\n",
       "std       365.032346\n",
       "min         0.000000\n",
       "25%         0.000000\n",
       "50%         0.000000\n",
       "75%         2.106250\n",
       "max      5135.181000\n",
       "Name: sum_transactionRevenue, dtype: float64"
      ]
     },
     "execution_count": 688,
     "metadata": {},
     "output_type": "execute_result"
    }
   ],
   "source": [
    "temp_df_label_1.sum_transactionRevenue.describe()"
   ]
  },
  {
   "cell_type": "code",
   "execution_count": 689,
   "metadata": {},
   "outputs": [
    {
     "data": {
      "text/plain": [
       "count    142283.000000\n",
       "mean          0.265851\n",
       "std           4.415757\n",
       "min           0.000000\n",
       "25%           0.000000\n",
       "50%           0.000000\n",
       "75%           0.000000\n",
       "max         560.140000\n",
       "Name: sum_transactionRevenue, dtype: float64"
      ]
     },
     "execution_count": 689,
     "metadata": {},
     "output_type": "execute_result"
    }
   ],
   "source": [
    "temp_df_label_0.sum_transactionRevenue.describe()"
   ]
  },
  {
   "cell_type": "code",
   "execution_count": 690,
   "metadata": {},
   "outputs": [
    {
     "name": "stdout",
     "output_type": "stream",
     "text": [
      "0 to 5% of data points lie in the range of 0.0 to 0.0\n",
      "5 to 10% of data points lie in the range of 0.0 to 0.0\n",
      "10 to 15% of data points lie in the range of 0.0 to 0.0\n",
      "15 to 20% of data points lie in the range of 0.0 to 0.0\n",
      "20 to 25% of data points lie in the range of 0.0 to 0.0\n",
      "25 to 30% of data points lie in the range of 0.0 to 0.0\n",
      "30 to 35% of data points lie in the range of 0.0 to 0.0\n",
      "35 to 40% of data points lie in the range of 0.0 to 0.0\n",
      "40 to 45% of data points lie in the range of 0.0 to 0.0\n",
      "45 to 50% of data points lie in the range of 0.0 to 0.0\n",
      "50 to 55% of data points lie in the range of 0.0 to 0.0\n",
      "55 to 60% of data points lie in the range of 0.0 to 0.0\n",
      "60 to 65% of data points lie in the range of 0.0 to 0.0\n",
      "65 to 70% of data points lie in the range of 0.0 to 0.0\n",
      "70 to 75% of data points lie in the range of 0.0 to 0.0\n",
      "75 to 80% of data points lie in the range of 0.0 to 0.0\n",
      "80 to 85% of data points lie in the range of 0.0 to 0.0\n",
      "85 to 90% of data points lie in the range of 0.0 to 0.0\n",
      "90 to 95% of data points lie in the range of 0.0 to 0.0\n",
      "95 to 100% of data points lie in the range of 0.0 to 5135.181\n"
     ]
    }
   ],
   "source": [
    "range_finder(df.sum_transactionRevenue)"
   ]
  },
  {
   "cell_type": "code",
   "execution_count": 691,
   "metadata": {},
   "outputs": [
    {
     "name": "stdout",
     "output_type": "stream",
     "text": [
      "0 to 5% of data points lie in the range of 0.0 to 0.0\n",
      "5 to 10% of data points lie in the range of 0.0 to 0.0\n",
      "10 to 15% of data points lie in the range of 0.0 to 0.0\n",
      "15 to 20% of data points lie in the range of 0.0 to 0.0\n",
      "20 to 25% of data points lie in the range of 0.0 to 0.0\n",
      "25 to 30% of data points lie in the range of 0.0 to 0.0\n",
      "30 to 35% of data points lie in the range of 0.0 to 0.0\n",
      "35 to 40% of data points lie in the range of 0.0 to 0.0\n",
      "40 to 45% of data points lie in the range of 0.0 to 0.0\n",
      "45 to 50% of data points lie in the range of 0.0 to 0.0\n",
      "50 to 55% of data points lie in the range of 0.0 to 0.0\n",
      "55 to 60% of data points lie in the range of 0.0 to 0.0\n",
      "60 to 65% of data points lie in the range of 0.0 to 0.0\n",
      "65 to 70% of data points lie in the range of 0.0 to 0.0\n",
      "70 to 75% of data points lie in the range of 0.0 to 2.10625\n",
      "75 to 80% of data points lie in the range of 2.10625 to 4.940800000000002\n",
      "80 to 85% of data points lie in the range of 4.940800000000002 to 10.434\n",
      "85 to 90% of data points lie in the range of 10.434 to 20.520700000000037\n",
      "90 to 95% of data points lie in the range of 20.520700000000037 to 73.12429999999992\n",
      "95 to 100% of data points lie in the range of 73.12429999999992 to 5135.181\n"
     ]
    }
   ],
   "source": [
    "range_finder(temp_df_label_1.sum_transactionRevenue)"
   ]
  },
  {
   "cell_type": "code",
   "execution_count": 692,
   "metadata": {},
   "outputs": [
    {
     "name": "stdout",
     "output_type": "stream",
     "text": [
      "95% of the values in the sum transaction revenue for label 1 is covered in the range of 0 to 73.12429999999992\n",
      "95% of the values in the sum transaction revenue for label 0 is covered in the range of 0 to 0.0\n"
     ]
    }
   ],
   "source": [
    "import numpy as np\n",
    "\n",
    "print(\"95% of the values in the sum transaction revenue for label 1 is covered in the range of 0 to\", np.percentile(temp_df_label_1.sum_transactionRevenue, q = 95))\n",
    "\n",
    "print(\"95% of the values in the sum transaction revenue for label 0 is covered in the range of 0 to\", np.percentile(temp_df_label_0.sum_transactionRevenue, q = 95))\n"
   ]
  },
  {
   "cell_type": "markdown",
   "metadata": {},
   "source": [
    "- There are few observations from the above results.\n",
    "    \n",
    "    1. The first scatter plot reveals the that there are few outliers in the dataset that have a very high sum for transaction revenue. \n",
    "    2. On seperating the graph for both positive and neative labels, it can be observed that some of there outliers have the positive label.\n",
    "    3. On finding the percentage for non zero entries in each label category it can be see that positive labels have a much higher percentage. Hence more contribution for the final prediction.\n",
    "    4. Positive labels have a higher mean for the sum transaction revenue (considering the outliers).\n",
    "    5. Positive labels have a higher standard deviation for in comparision to the negative labels.\n",
    "    6. 95% of the values for positive labels are within the range of 0 to 73.124. Hence we would not be loosing much data if we remove outliers by limiting any value greater than 100, in sum_transactionrevenue columm, to 100."
   ]
  },
  {
   "cell_type": "code",
   "execution_count": 693,
   "metadata": {},
   "outputs": [
    {
     "name": "stdout",
     "output_type": "stream",
     "text": [
      "Stats:\n",
      "Mean value = 0.2658506146201584\n",
      "Standard deviation = 4.415741952139982\n",
      "Threshold (Standard deviation *3) = 13.247225856419945\n",
      "Lower range = -12.981375241799787\n",
      "Upper range = 13.513076471040103\n",
      "Max value = 560.14\n"
     ]
    }
   ],
   "source": [
    "#Removing outliers for label 0\n",
    "temp_mean, temp_std, temp_threshold, temp_lower, temp_upper = get_stats(temp_df_label_0.sum_transactionRevenue)"
   ]
  },
  {
   "cell_type": "code",
   "execution_count": 694,
   "metadata": {},
   "outputs": [],
   "source": [
    "\n",
    "df.drop(index = temp_df_label_0[temp_df_label_0.sum_transactionRevenue > temp_upper].index, inplace=True)\n",
    "df.reset_index(inplace=True, drop = True)\n",
    "temp_df_label_0, temp_df_label_1 = get_label_seperated_dfs(df)"
   ]
  },
  {
   "cell_type": "code",
   "execution_count": 695,
   "metadata": {},
   "outputs": [
    {
     "name": "stdout",
     "output_type": "stream",
     "text": [
      "Records transformed for label 0: 0\n",
      "Records transformed for label 1: 10\n"
     ]
    },
    {
     "data": {
      "text/html": [
       "<div>\n",
       "<style scoped>\n",
       "    .dataframe tbody tr th:only-of-type {\n",
       "        vertical-align: middle;\n",
       "    }\n",
       "\n",
       "    .dataframe tbody tr th {\n",
       "        vertical-align: top;\n",
       "    }\n",
       "\n",
       "    .dataframe thead th {\n",
       "        text-align: right;\n",
       "    }\n",
       "</style>\n",
       "<table border=\"1\" class=\"dataframe\">\n",
       "  <thead>\n",
       "    <tr style=\"text-align: right;\">\n",
       "      <th></th>\n",
       "      <th>fullVisitorId</th>\n",
       "      <th>days_inactive</th>\n",
       "      <th>num_visits</th>\n",
       "      <th>sum_transactionRevenue</th>\n",
       "      <th>hits</th>\n",
       "      <th>pageviews</th>\n",
       "      <th>timeOnSite</th>\n",
       "      <th>subcontinent</th>\n",
       "      <th>device_browser</th>\n",
       "      <th>device_operatingSystem</th>\n",
       "      <th>converted_label</th>\n",
       "      <th>num_visits_transformed</th>\n",
       "    </tr>\n",
       "  </thead>\n",
       "  <tbody>\n",
       "    <tr>\n",
       "      <th>0</th>\n",
       "      <td>5576035078968099840</td>\n",
       "      <td>95.0</td>\n",
       "      <td>1.0</td>\n",
       "      <td>0.0</td>\n",
       "      <td>3</td>\n",
       "      <td>3</td>\n",
       "      <td>461</td>\n",
       "      <td>Southern Europe</td>\n",
       "      <td>Chrome</td>\n",
       "      <td>Windows</td>\n",
       "      <td>0</td>\n",
       "      <td>0.000000</td>\n",
       "    </tr>\n",
       "    <tr>\n",
       "      <th>1</th>\n",
       "      <td>7201046511999320064</td>\n",
       "      <td>95.0</td>\n",
       "      <td>1.0</td>\n",
       "      <td>0.0</td>\n",
       "      <td>3</td>\n",
       "      <td>3</td>\n",
       "      <td>227</td>\n",
       "      <td>Eastern Asia</td>\n",
       "      <td>Opera</td>\n",
       "      <td>Windows</td>\n",
       "      <td>0</td>\n",
       "      <td>0.000000</td>\n",
       "    </tr>\n",
       "    <tr>\n",
       "      <th>2</th>\n",
       "      <td>5681465454867810304</td>\n",
       "      <td>80.0</td>\n",
       "      <td>5.0</td>\n",
       "      <td>0.0</td>\n",
       "      <td>45</td>\n",
       "      <td>41</td>\n",
       "      <td>979</td>\n",
       "      <td>Western Europe</td>\n",
       "      <td>Chrome</td>\n",
       "      <td>Windows</td>\n",
       "      <td>0</td>\n",
       "      <td>0.205902</td>\n",
       "    </tr>\n",
       "    <tr>\n",
       "      <th>3</th>\n",
       "      <td>538763607569025984</td>\n",
       "      <td>95.0</td>\n",
       "      <td>1.0</td>\n",
       "      <td>0.0</td>\n",
       "      <td>5</td>\n",
       "      <td>5</td>\n",
       "      <td>52</td>\n",
       "      <td>Western Europe</td>\n",
       "      <td>Safari</td>\n",
       "      <td>Macintosh</td>\n",
       "      <td>0</td>\n",
       "      <td>0.000000</td>\n",
       "    </tr>\n",
       "    <tr>\n",
       "      <th>4</th>\n",
       "      <td>6901049768533789696</td>\n",
       "      <td>95.0</td>\n",
       "      <td>2.0</td>\n",
       "      <td>0.0</td>\n",
       "      <td>7</td>\n",
       "      <td>7</td>\n",
       "      <td>144</td>\n",
       "      <td>Northern America</td>\n",
       "      <td>Safari</td>\n",
       "      <td>iOS</td>\n",
       "      <td>0</td>\n",
       "      <td>0.198866</td>\n",
       "    </tr>\n",
       "  </tbody>\n",
       "</table>\n",
       "</div>"
      ],
      "text/plain": [
       "         fullVisitorId  days_inactive  num_visits  sum_transactionRevenue  \\\n",
       "0  5576035078968099840           95.0         1.0                     0.0   \n",
       "1  7201046511999320064           95.0         1.0                     0.0   \n",
       "2  5681465454867810304           80.0         5.0                     0.0   \n",
       "3   538763607569025984           95.0         1.0                     0.0   \n",
       "4  6901049768533789696           95.0         2.0                     0.0   \n",
       "\n",
       "   hits  pageviews  timeOnSite      subcontinent device_browser  \\\n",
       "0     3          3         461   Southern Europe         Chrome   \n",
       "1     3          3         227      Eastern Asia          Opera   \n",
       "2    45         41         979    Western Europe         Chrome   \n",
       "3     5          5          52    Western Europe         Safari   \n",
       "4     7          7         144  Northern America         Safari   \n",
       "\n",
       "  device_operatingSystem  converted_label  num_visits_transformed  \n",
       "0                Windows                0                0.000000  \n",
       "1                Windows                0                0.000000  \n",
       "2                Windows                0                0.205902  \n",
       "3              Macintosh                0                0.000000  \n",
       "4                    iOS                0                0.198866  "
      ]
     },
     "execution_count": 695,
     "metadata": {},
     "output_type": "execute_result"
    }
   ],
   "source": [
    "#limiting outliers for label 1\n",
    "df['sum_transactionRevenue'] = df.sum_transactionRevenue.apply(lambda x: x if x <=100 else 100)\n",
    "\n",
    "print(\"Records transformed for label 0:\", len(temp_df_label_0[temp_df_label_0.sum_transactionRevenue > 100]))\n",
    "print(\"Records transformed for label 1:\", len(temp_df_label_1[temp_df_label_1.sum_transactionRevenue > 100]))\n",
    "\n",
    "df.head()"
   ]
  },
  {
   "cell_type": "code",
   "execution_count": 696,
   "metadata": {},
   "outputs": [
    {
     "data": {
      "text/plain": [
       "<matplotlib.collections.PathCollection at 0x24d6672fc40>"
      ]
     },
     "execution_count": 696,
     "metadata": {},
     "output_type": "execute_result"
    },
    {
     "data": {
      "image/png": "[encoded data removed]",
      "text/plain": [
       "<Figure size 432x288 with 1 Axes>"
      ]
     },
     "metadata": {
      "needs_background": "light"
     },
     "output_type": "display_data"
    }
   ],
   "source": [
    "plt.scatter(x = df.index.values.tolist(), y = df.sum_transactionRevenue, c=df.converted_label, alpha = 0.6, s=10)"
   ]
  },
  {
   "cell_type": "markdown",
   "metadata": {},
   "source": [
    "### For `hits` column"
   ]
  },
  {
   "cell_type": "code",
   "execution_count": 697,
   "metadata": {},
   "outputs": [
    {
     "data": {
      "text/plain": [
       "[3, 3, 45, 5, 7, 7, 8, 16, 11, 12, 13, 7, 14, 3, 2, 3, 4, 2, 2, 2]"
      ]
     },
     "execution_count": 697,
     "metadata": {},
     "output_type": "execute_result"
    }
   ],
   "source": [
    "df.hits.tolist()[:20]"
   ]
  },
  {
   "cell_type": "code",
   "execution_count": 698,
   "metadata": {},
   "outputs": [
    {
     "data": {
      "text/plain": [
       "2     39220\n",
       "3     22636\n",
       "4     13894\n",
       "5     10219\n",
       "6      7691\n",
       "7      6307\n",
       "8      4935\n",
       "9      4149\n",
       "10     3441\n",
       "11     2958\n",
       "12     2496\n",
       "13     2130\n",
       "14     1950\n",
       "15     1673\n",
       "16     1503\n",
       "Name: hits, dtype: int64"
      ]
     },
     "execution_count": 698,
     "metadata": {},
     "output_type": "execute_result"
    }
   ],
   "source": [
    "df.hits.value_counts()[:15]"
   ]
  },
  {
   "cell_type": "code",
   "execution_count": 699,
   "metadata": {},
   "outputs": [
    {
     "data": {
      "text/plain": [
       "count    141902.000000\n",
       "mean          8.304189\n",
       "std          14.017347\n",
       "min           2.000000\n",
       "25%           2.000000\n",
       "50%           4.000000\n",
       "75%           9.000000\n",
       "max        1887.000000\n",
       "Name: hits, dtype: float64"
      ]
     },
     "execution_count": 699,
     "metadata": {},
     "output_type": "execute_result"
    }
   ],
   "source": [
    "df.hits.describe()"
   ]
  },
  {
   "cell_type": "code",
   "execution_count": 700,
   "metadata": {},
   "outputs": [
    {
     "name": "stderr",
     "output_type": "stream",
     "text": [
      "C:\\Users\\Sahil\\AppData\\Local\\Programs\\Python\\Python38\\lib\\site-packages\\seaborn\\distributions.py:2619: FutureWarning: `distplot` is a deprecated function and will be removed in a future version. Please adapt your code to use either `displot` (a figure-level function with similar flexibility) or `histplot` (an axes-level function for histograms).\n",
      "  warnings.warn(msg, FutureWarning)\n"
     ]
    },
    {
     "data": {
      "text/plain": [
       "<AxesSubplot:xlabel='hits', ylabel='Density'>"
      ]
     },
     "execution_count": 700,
     "metadata": {},
     "output_type": "execute_result"
    },
    {
     "data": {
      "image/png": "[encoded data removed]",
      "text/plain": [
       "<Figure size 432x288 with 1 Axes>"
      ]
     },
     "metadata": {
      "needs_background": "light"
     },
     "output_type": "display_data"
    }
   ],
   "source": [
    "sns.distplot(df.hits, hist=True, kde=True, bins=200)"
   ]
  },
  {
   "cell_type": "code",
   "execution_count": 701,
   "metadata": {},
   "outputs": [
    {
     "data": {
      "text/plain": [
       "<matplotlib.collections.PathCollection at 0x24d668fd790>"
      ]
     },
     "execution_count": 701,
     "metadata": {},
     "output_type": "execute_result"
    },
    {
     "data": {
      "image/png": "[encoded data removed]",
      "text/plain": [
       "<Figure size 432x288 with 1 Axes>"
      ]
     },
     "metadata": {
      "needs_background": "light"
     },
     "output_type": "display_data"
    }
   ],
   "source": [
    "plt.scatter(x = df.index.values.tolist(), y = df.hits, c=df.converted_label, alpha = 0.6, s=10)"
   ]
  },
  {
   "cell_type": "code",
   "execution_count": 702,
   "metadata": {},
   "outputs": [
    {
     "data": {
      "text/plain": [
       "<AxesSubplot:>"
      ]
     },
     "execution_count": 702,
     "metadata": {},
     "output_type": "execute_result"
    },
    {
     "data": {
      "image/png": "[encoded data removed]",
      "text/plain": [
       "<Figure size 432x288 with 1 Axes>"
      ]
     },
     "metadata": {
      "needs_background": "light"
     },
     "output_type": "display_data"
    }
   ],
   "source": [
    "temp_df_label_1.hits.plot(style = '.k')"
   ]
  },
  {
   "cell_type": "code",
   "execution_count": 703,
   "metadata": {},
   "outputs": [
    {
     "data": {
      "text/plain": [
       "<AxesSubplot:>"
      ]
     },
     "execution_count": 703,
     "metadata": {},
     "output_type": "execute_result"
    },
    {
     "data": {
      "image/png": "[encoded data removed]",
      "text/plain": [
       "<Figure size 432x288 with 1 Axes>"
      ]
     },
     "metadata": {
      "needs_background": "light"
     },
     "output_type": "display_data"
    }
   ],
   "source": [
    "temp_df_label_0.hits.plot(style = '.k')"
   ]
  },
  {
   "cell_type": "code",
   "execution_count": 704,
   "metadata": {},
   "outputs": [
    {
     "data": {
      "text/plain": [
       "(count     224.000000\n",
       " mean       53.125000\n",
       " std       163.574978\n",
       " min         2.000000\n",
       " 25%         6.000000\n",
       " 50%        15.000000\n",
       " 75%        44.000000\n",
       " max      1887.000000\n",
       " Name: hits, dtype: float64,\n",
       " count    141678.000000\n",
       " mean          8.233325\n",
       " std          12.308542\n",
       " min           2.000000\n",
       " 25%           2.000000\n",
       " 50%           4.000000\n",
       " 75%           9.000000\n",
       " max         558.000000\n",
       " Name: hits, dtype: float64)"
      ]
     },
     "execution_count": 704,
     "metadata": {},
     "output_type": "execute_result"
    }
   ],
   "source": [
    "temp_df_label_1.hits.describe(), temp_df_label_0.hits.describe()"
   ]
  },
  {
   "cell_type": "code",
   "execution_count": 705,
   "metadata": {},
   "outputs": [
    {
     "name": "stdout",
     "output_type": "stream",
     "text": [
      "0 to 5% of data points lie in the range of 2.0 to 2.0\n",
      "5 to 10% of data points lie in the range of 2.0 to 2.0\n",
      "10 to 15% of data points lie in the range of 2.0 to 2.0\n",
      "15 to 20% of data points lie in the range of 2.0 to 2.0\n",
      "20 to 25% of data points lie in the range of 2.0 to 2.0\n",
      "25 to 30% of data points lie in the range of 2.0 to 3.0\n",
      "30 to 35% of data points lie in the range of 3.0 to 3.0\n",
      "35 to 40% of data points lie in the range of 3.0 to 3.0\n",
      "40 to 45% of data points lie in the range of 3.0 to 4.0\n",
      "45 to 50% of data points lie in the range of 4.0 to 4.0\n",
      "50 to 55% of data points lie in the range of 4.0 to 5.0\n",
      "55 to 60% of data points lie in the range of 5.0 to 5.0\n",
      "60 to 65% of data points lie in the range of 5.0 to 6.0\n",
      "65 to 70% of data points lie in the range of 6.0 to 7.0\n",
      "70 to 75% of data points lie in the range of 7.0 to 9.0\n",
      "75 to 80% of data points lie in the range of 9.0 to 11.0\n",
      "80 to 85% of data points lie in the range of 11.0 to 14.0\n",
      "85 to 90% of data points lie in the range of 14.0 to 19.0\n",
      "90 to 95% of data points lie in the range of 19.0 to 28.0\n",
      "95 to 100% of data points lie in the range of 28.0 to 1887.0\n"
     ]
    }
   ],
   "source": [
    "range_finder(df.hits)"
   ]
  },
  {
   "cell_type": "code",
   "execution_count": 706,
   "metadata": {},
   "outputs": [
    {
     "name": "stdout",
     "output_type": "stream",
     "text": [
      "0 to 5% of data points lie in the range of 2.0 to 2.0\n",
      "5 to 10% of data points lie in the range of 2.0 to 3.0\n",
      "10 to 15% of data points lie in the range of 3.0 to 4.0\n",
      "15 to 20% of data points lie in the range of 4.0 to 5.0\n",
      "20 to 25% of data points lie in the range of 5.0 to 6.0\n",
      "25 to 30% of data points lie in the range of 6.0 to 8.0\n",
      "30 to 35% of data points lie in the range of 8.0 to 11.0\n",
      "35 to 40% of data points lie in the range of 11.0 to 12.0\n",
      "40 to 45% of data points lie in the range of 12.0 to 13.0\n",
      "45 to 50% of data points lie in the range of 13.0 to 15.0\n",
      "50 to 55% of data points lie in the range of 15.0 to 18.0\n",
      "55 to 60% of data points lie in the range of 18.0 to 24.799999999999983\n",
      "60 to 65% of data points lie in the range of 24.799999999999983 to 30.0\n",
      "65 to 70% of data points lie in the range of 30.0 to 36.0\n",
      "70 to 75% of data points lie in the range of 36.0 to 44.0\n",
      "75 to 80% of data points lie in the range of 44.0 to 52.0\n",
      "80 to 85% of data points lie in the range of 52.0 to 71.54999999999998\n",
      "85 to 90% of data points lie in the range of 71.54999999999998 to 111.80000000000007\n",
      "90 to 95% of data points lie in the range of 111.80000000000007 to 170.94999999999996\n",
      "95 to 100% of data points lie in the range of 170.94999999999996 to 1887.0\n"
     ]
    }
   ],
   "source": [
    "range_finder(temp_df_label_1.hits)"
   ]
  },
  {
   "cell_type": "code",
   "execution_count": 707,
   "metadata": {},
   "outputs": [
    {
     "name": "stdout",
     "output_type": "stream",
     "text": [
      "Stats:\n",
      "Mean value = 8.233324863422691\n",
      "Standard deviation = 12.308498352476722\n",
      "Threshold (Standard deviation *3) = 36.92549505743017\n",
      "Lower range = -28.692170194007478\n",
      "Upper range = 45.158819920852864\n",
      "Max value = 558\n"
     ]
    }
   ],
   "source": [
    "#Removing outliers for label 0\n",
    "temp_mean, temp_std, temp_threshold, temp_lower, temp_upper = get_stats(temp_df_label_0.hits)"
   ]
  },
  {
   "cell_type": "code",
   "execution_count": 708,
   "metadata": {},
   "outputs": [],
   "source": [
    "df.drop(index = temp_df_label_0[temp_df_label_0.hits > temp_upper].index, inplace=True)\n",
    "df.reset_index(inplace=True, drop = True)\n",
    "temp_df_label_0, temp_df_label_1 = get_label_seperated_dfs(df)"
   ]
  },
  {
   "cell_type": "code",
   "execution_count": 709,
   "metadata": {},
   "outputs": [
    {
     "name": "stdout",
     "output_type": "stream",
     "text": [
      "96% of the values in the hits for label 1 is covered in the range of 0 to 192.15999999999997\n",
      "96% of the values in the hits for label 0 is covered in the range of 0 to 26.0\n"
     ]
    }
   ],
   "source": [
    "print(\"96% of the values in the hits for label 1 is covered in the range of 0 to\", np.percentile(temp_df_label_1.hits, q = 96))\n",
    "print(\"96% of the values in the hits for label 0 is covered in the range of 0 to\", np.percentile(temp_df_label_0.hits, q = 96))\n"
   ]
  },
  {
   "cell_type": "markdown",
   "metadata": {},
   "source": [
    "- There are few observations from the above results.\n",
    "    \n",
    "    1. The first density and scatter plot reveals the that there are few outliers in the dataset that have a very high hits. \n",
    "    2. Positive labels have a higher mean for the hits (considering the outliers).\n",
    "    3. Positive labels have a higher standard deviation in comparision to the negative labels.\n",
    "    4. 96% of the values for positive labels are within the range of 0 to 192.16. Hence we would not be losing much data if we remove outliers by limiting any value greater than 200, in hits columm, to 200."
   ]
  },
  {
   "cell_type": "code",
   "execution_count": 710,
   "metadata": {},
   "outputs": [
    {
     "name": "stdout",
     "output_type": "stream",
     "text": [
      "Stats:\n",
      "Mean value = 53.125\n",
      "Standard deviation = 163.20944721649627\n",
      "Threshold (Standard deviation *3) = 489.6283416494888\n",
      "Lower range = -436.5033416494888\n",
      "Upper range = 542.7533416494888\n",
      "Max value = 1887\n"
     ]
    }
   ],
   "source": [
    "#limiting the values for outliers\n",
    "temp_mean, temp_std, temp_threshold, temp_lower, temp_upper = get_stats(temp_df_label_1.hits)\n",
    "df.loc[temp_df_label_1[temp_df_label_1.hits > temp_upper].index, 'hits'] = temp_upper"
   ]
  },
  {
   "cell_type": "code",
   "execution_count": 711,
   "metadata": {},
   "outputs": [
    {
     "data": {
      "text/plain": [
       "139255"
      ]
     },
     "execution_count": 711,
     "metadata": {},
     "output_type": "execute_result"
    }
   ],
   "source": [
    "len(df)"
   ]
  },
  {
   "cell_type": "code",
   "execution_count": 712,
   "metadata": {},
   "outputs": [
    {
     "data": {
      "text/plain": [
       "<matplotlib.collections.PathCollection at 0x24d634c8f40>"
      ]
     },
     "execution_count": 712,
     "metadata": {},
     "output_type": "execute_result"
    },
    {
     "data": {
      "image/png": "[encoded data removed]",
      "text/plain": [
       "<Figure size 432x288 with 1 Axes>"
      ]
     },
     "metadata": {
      "needs_background": "light"
     },
     "output_type": "display_data"
    }
   ],
   "source": [
    "plt.scatter(x = df.index.values.tolist(), y = df.hits, c=df.converted_label, alpha = 0.6, s=10)"
   ]
  },
  {
   "cell_type": "markdown",
   "metadata": {},
   "source": [
    "### For `pageviews` column"
   ]
  },
  {
   "cell_type": "code",
   "execution_count": 713,
   "metadata": {},
   "outputs": [
    {
     "data": {
      "text/plain": [
       "[3, 3, 41, 5, 7, 5, 7, 16, 11, 11, 10, 7, 14, 3, 2, 3, 4, 2, 2, 2]"
      ]
     },
     "execution_count": 713,
     "metadata": {},
     "output_type": "execute_result"
    }
   ],
   "source": [
    "df.pageviews.tolist()[:20]"
   ]
  },
  {
   "cell_type": "code",
   "execution_count": 714,
   "metadata": {},
   "outputs": [
    {
     "data": {
      "text/plain": [
       "2     40145\n",
       "3     23314\n",
       "4     14878\n",
       "5     10892\n",
       "6      8050\n",
       "7      6348\n",
       "8      5030\n",
       "9      4175\n",
       "10     3295\n",
       "11     2808\n",
       "12     2377\n",
       "13     2038\n",
       "14     1770\n",
       "15     1478\n",
       "1      1380\n",
       "16     1358\n",
       "17     1215\n",
       "18      977\n",
       "19      941\n",
       "20      764\n",
       "Name: pageviews, dtype: int64"
      ]
     },
     "execution_count": 714,
     "metadata": {},
     "output_type": "execute_result"
    }
   ],
   "source": [
    "df.pageviews.value_counts()[:20]"
   ]
  },
  {
   "cell_type": "code",
   "execution_count": 715,
   "metadata": {},
   "outputs": [
    {
     "data": {
      "text/plain": [
       "count    139255.000000\n",
       "mean          6.182399\n",
       "std           8.140982\n",
       "min           0.000000\n",
       "25%           2.000000\n",
       "50%           4.000000\n",
       "75%           7.000000\n",
       "max        1572.000000\n",
       "Name: pageviews, dtype: float64"
      ]
     },
     "execution_count": 715,
     "metadata": {},
     "output_type": "execute_result"
    }
   ],
   "source": [
    "df.pageviews.describe()"
   ]
  },
  {
   "cell_type": "code",
   "execution_count": 716,
   "metadata": {},
   "outputs": [
    {
     "name": "stderr",
     "output_type": "stream",
     "text": [
      "C:\\Users\\Sahil\\AppData\\Local\\Programs\\Python\\Python38\\lib\\site-packages\\seaborn\\distributions.py:2619: FutureWarning: `distplot` is a deprecated function and will be removed in a future version. Please adapt your code to use either `displot` (a figure-level function with similar flexibility) or `histplot` (an axes-level function for histograms).\n",
      "  warnings.warn(msg, FutureWarning)\n"
     ]
    },
    {
     "data": {
      "text/plain": [
       "<AxesSubplot:xlabel='pageviews', ylabel='Density'>"
      ]
     },
     "execution_count": 716,
     "metadata": {},
     "output_type": "execute_result"
    },
    {
     "data": {
      "image/png": "[encoded data removed]",
      "text/plain": [
       "<Figure size 432x288 with 1 Axes>"
      ]
     },
     "metadata": {
      "needs_background": "light"
     },
     "output_type": "display_data"
    }
   ],
   "source": [
    "sns.distplot(df.pageviews, hist=True, kde=True, bins=200)"
   ]
  },
  {
   "cell_type": "code",
   "execution_count": 717,
   "metadata": {},
   "outputs": [
    {
     "data": {
      "text/plain": [
       "<matplotlib.collections.PathCollection at 0x24d6274c640>"
      ]
     },
     "execution_count": 717,
     "metadata": {},
     "output_type": "execute_result"
    },
    {
     "data": {
      "image/png": "[encoded data removed]",
      "text/plain": [
       "<Figure size 432x288 with 1 Axes>"
      ]
     },
     "metadata": {
      "needs_background": "light"
     },
     "output_type": "display_data"
    }
   ],
   "source": [
    "plt.scatter(x = df.index.values.tolist(), y = df.pageviews, c=df.converted_label, alpha = 0.6, s=10)"
   ]
  },
  {
   "cell_type": "code",
   "execution_count": 718,
   "metadata": {},
   "outputs": [
    {
     "data": {
      "text/plain": [
       "<AxesSubplot:>"
      ]
     },
     "execution_count": 718,
     "metadata": {},
     "output_type": "execute_result"
    },
    {
     "data": {
      "image/png": "[encoded data removed]",
      "text/plain": [
       "<Figure size 432x288 with 1 Axes>"
      ]
     },
     "metadata": {
      "needs_background": "light"
     },
     "output_type": "display_data"
    }
   ],
   "source": [
    "temp_df_label_1.pageviews.plot(style = '.k')"
   ]
  },
  {
   "cell_type": "code",
   "execution_count": 719,
   "metadata": {},
   "outputs": [
    {
     "data": {
      "text/plain": [
       "<AxesSubplot:>"
      ]
     },
     "execution_count": 719,
     "metadata": {},
     "output_type": "execute_result"
    },
    {
     "data": {
      "image/png": "[encoded data removed]",
      "text/plain": [
       "<Figure size 432x288 with 1 Axes>"
      ]
     },
     "metadata": {
      "needs_background": "light"
     },
     "output_type": "display_data"
    }
   ],
   "source": [
    "temp_df_label_0.pageviews.plot(style = '.k')"
   ]
  },
  {
   "cell_type": "code",
   "execution_count": 720,
   "metadata": {},
   "outputs": [
    {
     "data": {
      "text/plain": [
       "(count     224.000000\n",
       " mean       41.683036\n",
       " std       134.153759\n",
       " min         2.000000\n",
       " 25%         5.000000\n",
       " 50%        13.000000\n",
       " 75%        33.000000\n",
       " max      1572.000000\n",
       " Name: pageviews, dtype: float64,\n",
       " count    139031.000000\n",
       " mean          6.125202\n",
       " std           5.956638\n",
       " min           0.000000\n",
       " 25%           2.000000\n",
       " 50%           4.000000\n",
       " 75%           7.000000\n",
       " max          45.000000\n",
       " Name: pageviews, dtype: float64)"
      ]
     },
     "execution_count": 720,
     "metadata": {},
     "output_type": "execute_result"
    }
   ],
   "source": [
    "temp_df_label_1.pageviews.describe(), temp_df_label_0.pageviews.describe()"
   ]
  },
  {
   "cell_type": "code",
   "execution_count": 721,
   "metadata": {},
   "outputs": [
    {
     "name": "stdout",
     "output_type": "stream",
     "text": [
      "0 to 5% of data points lie in the range of 0.0 to 2.0\n",
      "5 to 10% of data points lie in the range of 2.0 to 2.0\n",
      "10 to 15% of data points lie in the range of 2.0 to 2.0\n",
      "15 to 20% of data points lie in the range of 2.0 to 2.0\n",
      "20 to 25% of data points lie in the range of 2.0 to 2.0\n",
      "25 to 30% of data points lie in the range of 2.0 to 3.0\n",
      "30 to 35% of data points lie in the range of 3.0 to 3.0\n",
      "35 to 40% of data points lie in the range of 3.0 to 3.0\n",
      "40 to 45% of data points lie in the range of 3.0 to 3.0\n",
      "45 to 50% of data points lie in the range of 3.0 to 4.0\n",
      "50 to 55% of data points lie in the range of 4.0 to 4.0\n",
      "55 to 60% of data points lie in the range of 4.0 to 5.0\n",
      "60 to 65% of data points lie in the range of 5.0 to 5.0\n",
      "65 to 70% of data points lie in the range of 5.0 to 6.0\n",
      "70 to 75% of data points lie in the range of 6.0 to 7.0\n",
      "75 to 80% of data points lie in the range of 7.0 to 9.0\n",
      "80 to 85% of data points lie in the range of 9.0 to 11.0\n",
      "85 to 90% of data points lie in the range of 11.0 to 14.0\n",
      "90 to 95% of data points lie in the range of 14.0 to 19.0\n",
      "95 to 100% of data points lie in the range of 19.0 to 1572.0\n"
     ]
    }
   ],
   "source": [
    "range_finder(df.pageviews)"
   ]
  },
  {
   "cell_type": "code",
   "execution_count": 722,
   "metadata": {},
   "outputs": [
    {
     "name": "stdout",
     "output_type": "stream",
     "text": [
      "0 to 5% of data points lie in the range of 2.0 to 2.0\n",
      "5 to 10% of data points lie in the range of 2.0 to 3.0\n",
      "10 to 15% of data points lie in the range of 3.0 to 3.4499999999999957\n",
      "15 to 20% of data points lie in the range of 3.4499999999999957 to 4.0\n",
      "20 to 25% of data points lie in the range of 4.0 to 5.0\n",
      "25 to 30% of data points lie in the range of 5.0 to 7.0\n",
      "30 to 35% of data points lie in the range of 7.0 to 9.0\n",
      "35 to 40% of data points lie in the range of 9.0 to 10.0\n",
      "40 to 45% of data points lie in the range of 10.0 to 11.0\n",
      "45 to 50% of data points lie in the range of 11.0 to 13.0\n",
      "50 to 55% of data points lie in the range of 13.0 to 15.650000000000006\n",
      "55 to 60% of data points lie in the range of 15.650000000000006 to 20.0\n",
      "60 to 65% of data points lie in the range of 20.0 to 24.0\n",
      "65 to 70% of data points lie in the range of 24.0 to 27.099999999999994\n",
      "70 to 75% of data points lie in the range of 27.099999999999994 to 33.0\n",
      "75 to 80% of data points lie in the range of 33.0 to 40.400000000000006\n",
      "80 to 85% of data points lie in the range of 40.400000000000006 to 53.0\n",
      "85 to 90% of data points lie in the range of 53.0 to 81.40000000000003\n",
      "90 to 95% of data points lie in the range of 81.40000000000003 to 131.54999999999998\n",
      "95 to 100% of data points lie in the range of 131.54999999999998 to 1572.0\n"
     ]
    }
   ],
   "source": [
    "range_finder(temp_df_label_1.pageviews)"
   ]
  },
  {
   "cell_type": "code",
   "execution_count": 723,
   "metadata": {},
   "outputs": [
    {
     "name": "stdout",
     "output_type": "stream",
     "text": [
      "Stats:\n",
      "Mean value = 6.125202293013788\n",
      "Standard deviation = 5.9566163467673885\n",
      "Threshold (Standard deviation *3) = 17.869849040302164\n",
      "Lower range = -11.744646747288375\n",
      "Upper range = 23.995051333315953\n",
      "Max value = 45\n"
     ]
    }
   ],
   "source": [
    "#Removing outliers for label 0\n",
    "temp_mean, temp_std, temp_threshold, temp_lower, temp_upper = get_stats(temp_df_label_0.pageviews)"
   ]
  },
  {
   "cell_type": "code",
   "execution_count": 724,
   "metadata": {},
   "outputs": [],
   "source": [
    "df.drop(index = temp_df_label_0[temp_df_label_0.pageviews > temp_upper].index, inplace=True)\n",
    "df.reset_index(inplace=True, drop = True)\n",
    "temp_df_label_0, temp_df_label_1 = get_label_seperated_dfs(df)"
   ]
  },
  {
   "cell_type": "code",
   "execution_count": 725,
   "metadata": {},
   "outputs": [
    {
     "name": "stdout",
     "output_type": "stream",
     "text": [
      "96% of the values in the pageviews for label 1 is covered in the range of 0 to 145.07999999999998\n",
      "96% of the values in the pageviews for label 0 is covered in the range of 0 to 17.0\n"
     ]
    }
   ],
   "source": [
    "print(\"96% of the values in the pageviews for label 1 is covered in the range of 0 to\", np.percentile(temp_df_label_1.pageviews, q = 96))\n",
    "print(\"96% of the values in the pageviews for label 0 is covered in the range of 0 to\", np.percentile(temp_df_label_0.pageviews, q = 96))"
   ]
  },
  {
   "cell_type": "markdown",
   "metadata": {},
   "source": [
    "- There are few observations from the above results.\n",
    "    \n",
    "    1. The first density and scatter plot reveals the that there are few outliers in the dataset that have a very high pageviews. \n",
    "    2. Positive labels have a higher mean for the pageviews (considering the outliers).\n",
    "    3. Positive labels have a higher standard deviation in comparision to the negative labels.\n"
   ]
  },
  {
   "cell_type": "code",
   "execution_count": 726,
   "metadata": {},
   "outputs": [
    {
     "name": "stdout",
     "output_type": "stream",
     "text": [
      "Stats:\n",
      "Mean value = 41.683035714285715\n",
      "Standard deviation = 133.8539731976023\n",
      "Threshold (Standard deviation *3) = 401.56191959280693\n",
      "Lower range = -359.8788838785212\n",
      "Upper range = 443.24495530709265\n",
      "Max value = 1572\n"
     ]
    }
   ],
   "source": [
    "#Limiting outliers for label 1\n",
    "temp_mean, temp_std, temp_threshold, temp_lower, temp_upper = get_stats(temp_df_label_1.pageviews)"
   ]
  },
  {
   "cell_type": "code",
   "execution_count": 727,
   "metadata": {},
   "outputs": [
    {
     "name": "stdout",
     "output_type": "stream",
     "text": [
      "Records transformed for label 0: 0\n",
      "Records transformed for label 1: 2\n"
     ]
    },
    {
     "data": {
      "text/html": [
       "<div>\n",
       "<style scoped>\n",
       "    .dataframe tbody tr th:only-of-type {\n",
       "        vertical-align: middle;\n",
       "    }\n",
       "\n",
       "    .dataframe tbody tr th {\n",
       "        vertical-align: top;\n",
       "    }\n",
       "\n",
       "    .dataframe thead th {\n",
       "        text-align: right;\n",
       "    }\n",
       "</style>\n",
       "<table border=\"1\" class=\"dataframe\">\n",
       "  <thead>\n",
       "    <tr style=\"text-align: right;\">\n",
       "      <th></th>\n",
       "      <th>fullVisitorId</th>\n",
       "      <th>days_inactive</th>\n",
       "      <th>num_visits</th>\n",
       "      <th>sum_transactionRevenue</th>\n",
       "      <th>hits</th>\n",
       "      <th>pageviews</th>\n",
       "      <th>timeOnSite</th>\n",
       "      <th>subcontinent</th>\n",
       "      <th>device_browser</th>\n",
       "      <th>device_operatingSystem</th>\n",
       "      <th>converted_label</th>\n",
       "      <th>num_visits_transformed</th>\n",
       "    </tr>\n",
       "  </thead>\n",
       "  <tbody>\n",
       "    <tr>\n",
       "      <th>0</th>\n",
       "      <td>5576035078968099840</td>\n",
       "      <td>95.0</td>\n",
       "      <td>1.0</td>\n",
       "      <td>0.0</td>\n",
       "      <td>3.0</td>\n",
       "      <td>3.0</td>\n",
       "      <td>461</td>\n",
       "      <td>Southern Europe</td>\n",
       "      <td>Chrome</td>\n",
       "      <td>Windows</td>\n",
       "      <td>0</td>\n",
       "      <td>0.000000</td>\n",
       "    </tr>\n",
       "    <tr>\n",
       "      <th>1</th>\n",
       "      <td>7201046511999320064</td>\n",
       "      <td>95.0</td>\n",
       "      <td>1.0</td>\n",
       "      <td>0.0</td>\n",
       "      <td>3.0</td>\n",
       "      <td>3.0</td>\n",
       "      <td>227</td>\n",
       "      <td>Eastern Asia</td>\n",
       "      <td>Opera</td>\n",
       "      <td>Windows</td>\n",
       "      <td>0</td>\n",
       "      <td>0.000000</td>\n",
       "    </tr>\n",
       "    <tr>\n",
       "      <th>2</th>\n",
       "      <td>538763607569025984</td>\n",
       "      <td>95.0</td>\n",
       "      <td>1.0</td>\n",
       "      <td>0.0</td>\n",
       "      <td>5.0</td>\n",
       "      <td>5.0</td>\n",
       "      <td>52</td>\n",
       "      <td>Western Europe</td>\n",
       "      <td>Safari</td>\n",
       "      <td>Macintosh</td>\n",
       "      <td>0</td>\n",
       "      <td>0.000000</td>\n",
       "    </tr>\n",
       "    <tr>\n",
       "      <th>3</th>\n",
       "      <td>6901049768533789696</td>\n",
       "      <td>95.0</td>\n",
       "      <td>2.0</td>\n",
       "      <td>0.0</td>\n",
       "      <td>7.0</td>\n",
       "      <td>7.0</td>\n",
       "      <td>144</td>\n",
       "      <td>Northern America</td>\n",
       "      <td>Safari</td>\n",
       "      <td>iOS</td>\n",
       "      <td>0</td>\n",
       "      <td>0.198866</td>\n",
       "    </tr>\n",
       "    <tr>\n",
       "      <th>4</th>\n",
       "      <td>8777024166359079936</td>\n",
       "      <td>95.0</td>\n",
       "      <td>1.0</td>\n",
       "      <td>0.0</td>\n",
       "      <td>7.0</td>\n",
       "      <td>5.0</td>\n",
       "      <td>86</td>\n",
       "      <td>Northern Europe</td>\n",
       "      <td>Safari</td>\n",
       "      <td>iOS</td>\n",
       "      <td>0</td>\n",
       "      <td>0.000000</td>\n",
       "    </tr>\n",
       "  </tbody>\n",
       "</table>\n",
       "</div>"
      ],
      "text/plain": [
       "         fullVisitorId  days_inactive  num_visits  sum_transactionRevenue  \\\n",
       "0  5576035078968099840           95.0         1.0                     0.0   \n",
       "1  7201046511999320064           95.0         1.0                     0.0   \n",
       "2   538763607569025984           95.0         1.0                     0.0   \n",
       "3  6901049768533789696           95.0         2.0                     0.0   \n",
       "4  8777024166359079936           95.0         1.0                     0.0   \n",
       "\n",
       "   hits  pageviews  timeOnSite      subcontinent device_browser  \\\n",
       "0   3.0        3.0         461   Southern Europe         Chrome   \n",
       "1   3.0        3.0         227      Eastern Asia          Opera   \n",
       "2   5.0        5.0          52    Western Europe         Safari   \n",
       "3   7.0        7.0         144  Northern America         Safari   \n",
       "4   7.0        5.0          86   Northern Europe         Safari   \n",
       "\n",
       "  device_operatingSystem  converted_label  num_visits_transformed  \n",
       "0                Windows                0                0.000000  \n",
       "1                Windows                0                0.000000  \n",
       "2              Macintosh                0                0.000000  \n",
       "3                    iOS                0                0.198866  \n",
       "4                    iOS                0                0.000000  "
      ]
     },
     "execution_count": 727,
     "metadata": {},
     "output_type": "execute_result"
    }
   ],
   "source": [
    "df['pageviews'] = df.pageviews.apply(lambda x: x if x <=temp_upper else temp_upper)\n",
    "print(\"Records transformed for label 0:\", len(temp_df_label_0[temp_df_label_0.pageviews > temp_upper]))\n",
    "print(\"Records transformed for label 1:\", len(temp_df_label_1[temp_df_label_1.pageviews > temp_upper]))\n",
    "\n",
    "df.head()"
   ]
  },
  {
   "cell_type": "code",
   "execution_count": 728,
   "metadata": {},
   "outputs": [
    {
     "data": {
      "text/plain": [
       "<matplotlib.collections.PathCollection at 0x24d634e5730>"
      ]
     },
     "execution_count": 728,
     "metadata": {},
     "output_type": "execute_result"
    },
    {
     "data": {
      "image/png": "[encoded data removed]",
      "text/plain": [
       "<Figure size 432x288 with 1 Axes>"
      ]
     },
     "metadata": {
      "needs_background": "light"
     },
     "output_type": "display_data"
    }
   ],
   "source": [
    "plt.scatter(x = df.index.values.tolist(), y = df.pageviews, c=df.converted_label, alpha = 0.6, s=10)"
   ]
  },
  {
   "cell_type": "markdown",
   "metadata": {},
   "source": [
    "### For `timeOnSite` column"
   ]
  },
  {
   "cell_type": "code",
   "execution_count": 729,
   "metadata": {},
   "outputs": [
    {
     "data": {
      "text/plain": [
       "[461, 227, 52, 144, 86, 136, 3930, 229, 212, 453, 1079, 2371, 58, 119, 49]"
      ]
     },
     "execution_count": 729,
     "metadata": {},
     "output_type": "execute_result"
    }
   ],
   "source": [
    "df.timeOnSite.tolist()[:15]"
   ]
  },
  {
   "cell_type": "code",
   "execution_count": 730,
   "metadata": {},
   "outputs": [
    {
     "name": "stderr",
     "output_type": "stream",
     "text": [
      "C:\\Users\\Sahil\\AppData\\Local\\Programs\\Python\\Python38\\lib\\site-packages\\seaborn\\distributions.py:2619: FutureWarning: `distplot` is a deprecated function and will be removed in a future version. Please adapt your code to use either `displot` (a figure-level function with similar flexibility) or `histplot` (an axes-level function for histograms).\n",
      "  warnings.warn(msg, FutureWarning)\n"
     ]
    },
    {
     "data": {
      "text/plain": [
       "<AxesSubplot:xlabel='timeOnSite', ylabel='Density'>"
      ]
     },
     "execution_count": 730,
     "metadata": {},
     "output_type": "execute_result"
    },
    {
     "data": {
      "image/png": "[encoded data removed]",
      "text/plain": [
       "<Figure size 432x288 with 1 Axes>"
      ]
     },
     "metadata": {
      "needs_background": "light"
     },
     "output_type": "display_data"
    }
   ],
   "source": [
    "sns.distplot(df.timeOnSite, hist=True, kde=True, bins=200)"
   ]
  },
  {
   "cell_type": "markdown",
   "metadata": {},
   "source": [
    "- On evaluation it can be seen that a high number of records have a value of zero as the amount of time they spent."
   ]
  },
  {
   "cell_type": "code",
   "execution_count": 731,
   "metadata": {},
   "outputs": [
    {
     "name": "stdout",
     "output_type": "stream",
     "text": [
      "Total number of customers that did not spent any time on the site is  7540\n",
      "Total number of customers with label 1 that did not spent any time on the site is  3\n",
      "Total number of customers with label 0 that did not spent any time on the site is  7537\n"
     ]
    }
   ],
   "source": [
    "print(\"Total number of customers that did not spent any time on the site is \", df.timeOnSite.tolist().count(0))\n",
    "print(\"Total number of customers with label 1 that did not spent any time on the site is \", temp_df_label_1.timeOnSite.tolist().count(0))\n",
    "print(\"Total number of customers with label 0 that did not spent any time on the site is \", temp_df_label_0.timeOnSite.tolist().count(0))"
   ]
  },
  {
   "cell_type": "code",
   "execution_count": 732,
   "metadata": {},
   "outputs": [
    {
     "name": "stdout",
     "output_type": "stream",
     "text": [
      "Total number of customers with label 1 that did not spent any time on the site is  0\n"
     ]
    }
   ],
   "source": [
    "print(\"Total number of customers with label 1 that did not spent any time on the site is \", temp_df_label_1.timeOnSite.tolist().count(1))"
   ]
  },
  {
   "cell_type": "code",
   "execution_count": 733,
   "metadata": {},
   "outputs": [
    {
     "name": "stdout",
     "output_type": "stream",
     "text": [
      "0 to 5% of data points lie in the range of 0.0 to 12.15\n",
      "5 to 10% of data points lie in the range of 12.15 to 30.6\n",
      "10 to 15% of data points lie in the range of 30.6 to 49.0\n",
      "15 to 20% of data points lie in the range of 49.0 to 63.800000000000004\n",
      "20 to 25% of data points lie in the range of 63.800000000000004 to 115.25\n",
      "25 to 30% of data points lie in the range of 115.25 to 164.39999999999986\n",
      "30 to 35% of data points lie in the range of 164.39999999999986 to 214.0\n",
      "35 to 40% of data points lie in the range of 214.0 to 295.8\n",
      "40 to 45% of data points lie in the range of 295.8 to 351.5500000000001\n",
      "45 to 50% of data points lie in the range of 351.5500000000001 to 460.5\n",
      "50 to 55% of data points lie in the range of 460.5 to 581.3\n",
      "55 to 60% of data points lie in the range of 581.3 to 725.3999999999996\n",
      "60 to 65% of data points lie in the range of 725.3999999999996 to 830.95\n",
      "65 to 70% of data points lie in the range of 830.95 to 964.5999999999999\n",
      "70 to 75% of data points lie in the range of 964.5999999999999 to 1164.25\n",
      "75 to 80% of data points lie in the range of 1164.25 to 1490.4\n",
      "80 to 85% of data points lie in the range of 1490.4 to 2744.7499999999936\n",
      "85 to 90% of data points lie in the range of 2744.7499999999936 to 4907.4\n",
      "90 to 95% of data points lie in the range of 4907.4 to 6137.599999999999\n",
      "95 to 100% of data points lie in the range of 6137.599999999999 to 76696.0\n"
     ]
    }
   ],
   "source": [
    "range_finder(temp_df_label_1.timeOnSite)"
   ]
  },
  {
   "cell_type": "code",
   "execution_count": 734,
   "metadata": {},
   "outputs": [
    {
     "name": "stdout",
     "output_type": "stream",
     "text": [
      "0 to 5% of data points lie in the range of 0.0 to 0.0\n",
      "5 to 10% of data points lie in the range of 0.0 to 8.0\n",
      "10 to 15% of data points lie in the range of 8.0 to 14.0\n",
      "15 to 20% of data points lie in the range of 14.0 to 20.0\n",
      "20 to 25% of data points lie in the range of 20.0 to 27.0\n",
      "25 to 30% of data points lie in the range of 27.0 to 35.0\n",
      "30 to 35% of data points lie in the range of 35.0 to 44.0\n",
      "35 to 40% of data points lie in the range of 44.0 to 54.0\n",
      "40 to 45% of data points lie in the range of 54.0 to 65.0\n",
      "45 to 50% of data points lie in the range of 65.0 to 80.0\n",
      "50 to 55% of data points lie in the range of 80.0 to 98.0\n",
      "55 to 60% of data points lie in the range of 98.0 to 119.0\n",
      "60 to 65% of data points lie in the range of 119.0 to 147.0\n",
      "65 to 70% of data points lie in the range of 147.0 to 183.0\n",
      "70 to 75% of data points lie in the range of 183.0 to 232.0\n",
      "75 to 80% of data points lie in the range of 232.0 to 298.0\n",
      "80 to 85% of data points lie in the range of 298.0 to 398.0\n",
      "85 to 90% of data points lie in the range of 398.0 to 573.0\n",
      "90 to 95% of data points lie in the range of 573.0 to 965.0\n",
      "95 to 100% of data points lie in the range of 965.0 to 6391.0\n"
     ]
    }
   ],
   "source": [
    "range_finder(temp_df_label_0.timeOnSite)"
   ]
  },
  {
   "cell_type": "code",
   "execution_count": 735,
   "metadata": {},
   "outputs": [
    {
     "name": "stderr",
     "output_type": "stream",
     "text": [
      "C:\\Users\\Sahil\\AppData\\Local\\Programs\\Python\\Python38\\lib\\site-packages\\seaborn\\distributions.py:2619: FutureWarning: `distplot` is a deprecated function and will be removed in a future version. Please adapt your code to use either `displot` (a figure-level function with similar flexibility) or `histplot` (an axes-level function for histograms).\n",
      "  warnings.warn(msg, FutureWarning)\n"
     ]
    },
    {
     "data": {
      "text/plain": [
       "<AxesSubplot:xlabel='timeOnSite', ylabel='Density'>"
      ]
     },
     "execution_count": 735,
     "metadata": {},
     "output_type": "execute_result"
    },
    {
     "data": {
      "image/png": "[encoded data removed]",
      "text/plain": [
       "<Figure size 432x288 with 1 Axes>"
      ]
     },
     "metadata": {
      "needs_background": "light"
     },
     "output_type": "display_data"
    }
   ],
   "source": [
    "sns.distplot(temp_df_label_1.timeOnSite, hist=True, kde=True, bins=50)"
   ]
  },
  {
   "cell_type": "code",
   "execution_count": 736,
   "metadata": {},
   "outputs": [
    {
     "name": "stderr",
     "output_type": "stream",
     "text": [
      "C:\\Users\\Sahil\\AppData\\Local\\Programs\\Python\\Python38\\lib\\site-packages\\seaborn\\distributions.py:2619: FutureWarning: `distplot` is a deprecated function and will be removed in a future version. Please adapt your code to use either `displot` (a figure-level function with similar flexibility) or `histplot` (an axes-level function for histograms).\n",
      "  warnings.warn(msg, FutureWarning)\n"
     ]
    },
    {
     "data": {
      "text/plain": [
       "<AxesSubplot:xlabel='timeOnSite', ylabel='Density'>"
      ]
     },
     "execution_count": 736,
     "metadata": {},
     "output_type": "execute_result"
    },
    {
     "data": {
      "image/png": "[encoded data removed]",
      "text/plain": [
       "<Figure size 432x288 with 1 Axes>"
      ]
     },
     "metadata": {
      "needs_background": "light"
     },
     "output_type": "display_data"
    }
   ],
   "source": [
    "sns.distplot(temp_df_label_0.timeOnSite, hist=True, kde=True, bins=50)"
   ]
  },
  {
   "cell_type": "code",
   "execution_count": 737,
   "metadata": {},
   "outputs": [
    {
     "data": {
      "text/plain": [
       "(count      224.000000\n",
       " mean      1874.303571\n",
       " std       6727.263553\n",
       " min          0.000000\n",
       " 25%        115.250000\n",
       " 50%        460.500000\n",
       " 75%       1164.250000\n",
       " max      76696.000000\n",
       " Name: timeOnSite, dtype: float64,\n",
       " count    135095.000000\n",
       " mean        219.120478\n",
       " std         379.854494\n",
       " min           0.000000\n",
       " 25%          27.000000\n",
       " 50%          80.000000\n",
       " 75%         232.000000\n",
       " max        6391.000000\n",
       " Name: timeOnSite, dtype: float64)"
      ]
     },
     "execution_count": 737,
     "metadata": {},
     "output_type": "execute_result"
    }
   ],
   "source": [
    "temp_df_label_1.timeOnSite.describe(), temp_df_label_0.timeOnSite.describe()"
   ]
  },
  {
   "cell_type": "code",
   "execution_count": 738,
   "metadata": {},
   "outputs": [
    {
     "name": "stdout",
     "output_type": "stream",
     "text": [
      "Stats:\n",
      "Mean value = 219.12047818202007\n",
      "Standard deviation = 379.85308780093817\n",
      "Threshold (Standard deviation *3) = 1139.5592634028144\n",
      "Lower range = -920.4387852207943\n",
      "Upper range = 1358.6797415848346\n",
      "Max value = 6391\n"
     ]
    }
   ],
   "source": [
    "#Removing outliers for label 0\n",
    "temp_mean, temp_std, temp_threshold, temp_lower, temp_upper = get_stats(temp_df_label_0.timeOnSite)"
   ]
  },
  {
   "cell_type": "code",
   "execution_count": 739,
   "metadata": {},
   "outputs": [],
   "source": [
    "df.drop(index = temp_df_label_0[temp_df_label_0.timeOnSite > temp_upper].index, inplace=True)\n",
    "df.reset_index(inplace=True, drop = True)\n",
    "temp_df_label_0, temp_df_label_1 = get_label_seperated_dfs(df)"
   ]
  },
  {
   "cell_type": "code",
   "execution_count": 740,
   "metadata": {},
   "outputs": [
    {
     "name": "stdout",
     "output_type": "stream",
     "text": [
      "Stats:\n",
      "Mean value = 1874.3035714285713\n",
      "Standard deviation = 6712.230543061042\n",
      "Threshold (Standard deviation *3) = 20136.691629183126\n",
      "Lower range = -18262.388057754553\n",
      "Upper range = 22010.9952006117\n",
      "Max value = 76696\n"
     ]
    }
   ],
   "source": [
    "#Limiting outliers for label 1\n",
    "temp_mean, temp_std, temp_threshold, temp_lower, temp_upper = get_stats(temp_df_label_1.timeOnSite)"
   ]
  },
  {
   "cell_type": "code",
   "execution_count": 741,
   "metadata": {},
   "outputs": [
    {
     "name": "stdout",
     "output_type": "stream",
     "text": [
      "Records transformed for label 0: 0\n",
      "Records transformed for label 1: 2\n"
     ]
    },
    {
     "data": {
      "text/html": [
       "<div>\n",
       "<style scoped>\n",
       "    .dataframe tbody tr th:only-of-type {\n",
       "        vertical-align: middle;\n",
       "    }\n",
       "\n",
       "    .dataframe tbody tr th {\n",
       "        vertical-align: top;\n",
       "    }\n",
       "\n",
       "    .dataframe thead th {\n",
       "        text-align: right;\n",
       "    }\n",
       "</style>\n",
       "<table border=\"1\" class=\"dataframe\">\n",
       "  <thead>\n",
       "    <tr style=\"text-align: right;\">\n",
       "      <th></th>\n",
       "      <th>fullVisitorId</th>\n",
       "      <th>days_inactive</th>\n",
       "      <th>num_visits</th>\n",
       "      <th>sum_transactionRevenue</th>\n",
       "      <th>hits</th>\n",
       "      <th>pageviews</th>\n",
       "      <th>timeOnSite</th>\n",
       "      <th>subcontinent</th>\n",
       "      <th>device_browser</th>\n",
       "      <th>device_operatingSystem</th>\n",
       "      <th>converted_label</th>\n",
       "      <th>num_visits_transformed</th>\n",
       "    </tr>\n",
       "  </thead>\n",
       "  <tbody>\n",
       "    <tr>\n",
       "      <th>0</th>\n",
       "      <td>5576035078968099840</td>\n",
       "      <td>95.0</td>\n",
       "      <td>1.0</td>\n",
       "      <td>0.0</td>\n",
       "      <td>3.0</td>\n",
       "      <td>3.0</td>\n",
       "      <td>461.0</td>\n",
       "      <td>Southern Europe</td>\n",
       "      <td>Chrome</td>\n",
       "      <td>Windows</td>\n",
       "      <td>0</td>\n",
       "      <td>0.000000</td>\n",
       "    </tr>\n",
       "    <tr>\n",
       "      <th>1</th>\n",
       "      <td>7201046511999320064</td>\n",
       "      <td>95.0</td>\n",
       "      <td>1.0</td>\n",
       "      <td>0.0</td>\n",
       "      <td>3.0</td>\n",
       "      <td>3.0</td>\n",
       "      <td>227.0</td>\n",
       "      <td>Eastern Asia</td>\n",
       "      <td>Opera</td>\n",
       "      <td>Windows</td>\n",
       "      <td>0</td>\n",
       "      <td>0.000000</td>\n",
       "    </tr>\n",
       "    <tr>\n",
       "      <th>2</th>\n",
       "      <td>538763607569025984</td>\n",
       "      <td>95.0</td>\n",
       "      <td>1.0</td>\n",
       "      <td>0.0</td>\n",
       "      <td>5.0</td>\n",
       "      <td>5.0</td>\n",
       "      <td>52.0</td>\n",
       "      <td>Western Europe</td>\n",
       "      <td>Safari</td>\n",
       "      <td>Macintosh</td>\n",
       "      <td>0</td>\n",
       "      <td>0.000000</td>\n",
       "    </tr>\n",
       "    <tr>\n",
       "      <th>3</th>\n",
       "      <td>6901049768533789696</td>\n",
       "      <td>95.0</td>\n",
       "      <td>2.0</td>\n",
       "      <td>0.0</td>\n",
       "      <td>7.0</td>\n",
       "      <td>7.0</td>\n",
       "      <td>144.0</td>\n",
       "      <td>Northern America</td>\n",
       "      <td>Safari</td>\n",
       "      <td>iOS</td>\n",
       "      <td>0</td>\n",
       "      <td>0.198866</td>\n",
       "    </tr>\n",
       "    <tr>\n",
       "      <th>4</th>\n",
       "      <td>8777024166359079936</td>\n",
       "      <td>95.0</td>\n",
       "      <td>1.0</td>\n",
       "      <td>0.0</td>\n",
       "      <td>7.0</td>\n",
       "      <td>5.0</td>\n",
       "      <td>86.0</td>\n",
       "      <td>Northern Europe</td>\n",
       "      <td>Safari</td>\n",
       "      <td>iOS</td>\n",
       "      <td>0</td>\n",
       "      <td>0.000000</td>\n",
       "    </tr>\n",
       "  </tbody>\n",
       "</table>\n",
       "</div>"
      ],
      "text/plain": [
       "         fullVisitorId  days_inactive  num_visits  sum_transactionRevenue  \\\n",
       "0  5576035078968099840           95.0         1.0                     0.0   \n",
       "1  7201046511999320064           95.0         1.0                     0.0   \n",
       "2   538763607569025984           95.0         1.0                     0.0   \n",
       "3  6901049768533789696           95.0         2.0                     0.0   \n",
       "4  8777024166359079936           95.0         1.0                     0.0   \n",
       "\n",
       "   hits  pageviews  timeOnSite      subcontinent device_browser  \\\n",
       "0   3.0        3.0       461.0   Southern Europe         Chrome   \n",
       "1   3.0        3.0       227.0      Eastern Asia          Opera   \n",
       "2   5.0        5.0        52.0    Western Europe         Safari   \n",
       "3   7.0        7.0       144.0  Northern America         Safari   \n",
       "4   7.0        5.0        86.0   Northern Europe         Safari   \n",
       "\n",
       "  device_operatingSystem  converted_label  num_visits_transformed  \n",
       "0                Windows                0                0.000000  \n",
       "1                Windows                0                0.000000  \n",
       "2              Macintosh                0                0.000000  \n",
       "3                    iOS                0                0.198866  \n",
       "4                    iOS                0                0.000000  "
      ]
     },
     "execution_count": 741,
     "metadata": {},
     "output_type": "execute_result"
    }
   ],
   "source": [
    "df['timeOnSite'] = df.timeOnSite.apply(lambda x: x if x <=temp_upper else temp_upper)\n",
    "print(\"Records transformed for label 0:\", len(temp_df_label_0[temp_df_label_0.timeOnSite > temp_upper]))\n",
    "print(\"Records transformed for label 1:\", len(temp_df_label_1[temp_df_label_1.timeOnSite > temp_upper]))\n",
    "\n",
    "df.head()"
   ]
  },
  {
   "cell_type": "code",
   "execution_count": 742,
   "metadata": {},
   "outputs": [
    {
     "data": {
      "text/plain": [
       "131669"
      ]
     },
     "execution_count": 742,
     "metadata": {},
     "output_type": "execute_result"
    }
   ],
   "source": [
    "len(df)"
   ]
  },
  {
   "cell_type": "markdown",
   "metadata": {},
   "source": [
    "It is also a good idea to see if converting the time values into hours and minutes makes any corelation with the labels."
   ]
  },
  {
   "cell_type": "code",
   "execution_count": 743,
   "metadata": {},
   "outputs": [
    {
     "data": {
      "text/html": [
       "<div>\n",
       "<style scoped>\n",
       "    .dataframe tbody tr th:only-of-type {\n",
       "        vertical-align: middle;\n",
       "    }\n",
       "\n",
       "    .dataframe tbody tr th {\n",
       "        vertical-align: top;\n",
       "    }\n",
       "\n",
       "    .dataframe thead th {\n",
       "        text-align: right;\n",
       "    }\n",
       "</style>\n",
       "<table border=\"1\" class=\"dataframe\">\n",
       "  <thead>\n",
       "    <tr style=\"text-align: right;\">\n",
       "      <th></th>\n",
       "      <th>fullVisitorId</th>\n",
       "      <th>days_inactive</th>\n",
       "      <th>num_visits</th>\n",
       "      <th>sum_transactionRevenue</th>\n",
       "      <th>hits</th>\n",
       "      <th>pageviews</th>\n",
       "      <th>timeOnSite</th>\n",
       "      <th>subcontinent</th>\n",
       "      <th>device_browser</th>\n",
       "      <th>device_operatingSystem</th>\n",
       "      <th>converted_label</th>\n",
       "      <th>num_visits_transformed</th>\n",
       "      <th>timeOnSite_hours</th>\n",
       "      <th>timeOnSite_minutes</th>\n",
       "    </tr>\n",
       "  </thead>\n",
       "  <tbody>\n",
       "    <tr>\n",
       "      <th>0</th>\n",
       "      <td>5576035078968099840</td>\n",
       "      <td>95.0</td>\n",
       "      <td>1.0</td>\n",
       "      <td>0.0</td>\n",
       "      <td>3.0</td>\n",
       "      <td>3.0</td>\n",
       "      <td>461.0</td>\n",
       "      <td>Southern Europe</td>\n",
       "      <td>Chrome</td>\n",
       "      <td>Windows</td>\n",
       "      <td>0</td>\n",
       "      <td>0.000000</td>\n",
       "      <td>0.0</td>\n",
       "      <td>7.0</td>\n",
       "    </tr>\n",
       "    <tr>\n",
       "      <th>1</th>\n",
       "      <td>7201046511999320064</td>\n",
       "      <td>95.0</td>\n",
       "      <td>1.0</td>\n",
       "      <td>0.0</td>\n",
       "      <td>3.0</td>\n",
       "      <td>3.0</td>\n",
       "      <td>227.0</td>\n",
       "      <td>Eastern Asia</td>\n",
       "      <td>Opera</td>\n",
       "      <td>Windows</td>\n",
       "      <td>0</td>\n",
       "      <td>0.000000</td>\n",
       "      <td>0.0</td>\n",
       "      <td>3.0</td>\n",
       "    </tr>\n",
       "    <tr>\n",
       "      <th>2</th>\n",
       "      <td>538763607569025984</td>\n",
       "      <td>95.0</td>\n",
       "      <td>1.0</td>\n",
       "      <td>0.0</td>\n",
       "      <td>5.0</td>\n",
       "      <td>5.0</td>\n",
       "      <td>52.0</td>\n",
       "      <td>Western Europe</td>\n",
       "      <td>Safari</td>\n",
       "      <td>Macintosh</td>\n",
       "      <td>0</td>\n",
       "      <td>0.000000</td>\n",
       "      <td>0.0</td>\n",
       "      <td>0.0</td>\n",
       "    </tr>\n",
       "    <tr>\n",
       "      <th>3</th>\n",
       "      <td>6901049768533789696</td>\n",
       "      <td>95.0</td>\n",
       "      <td>2.0</td>\n",
       "      <td>0.0</td>\n",
       "      <td>7.0</td>\n",
       "      <td>7.0</td>\n",
       "      <td>144.0</td>\n",
       "      <td>Northern America</td>\n",
       "      <td>Safari</td>\n",
       "      <td>iOS</td>\n",
       "      <td>0</td>\n",
       "      <td>0.198866</td>\n",
       "      <td>0.0</td>\n",
       "      <td>2.0</td>\n",
       "    </tr>\n",
       "    <tr>\n",
       "      <th>4</th>\n",
       "      <td>8777024166359079936</td>\n",
       "      <td>95.0</td>\n",
       "      <td>1.0</td>\n",
       "      <td>0.0</td>\n",
       "      <td>7.0</td>\n",
       "      <td>5.0</td>\n",
       "      <td>86.0</td>\n",
       "      <td>Northern Europe</td>\n",
       "      <td>Safari</td>\n",
       "      <td>iOS</td>\n",
       "      <td>0</td>\n",
       "      <td>0.000000</td>\n",
       "      <td>0.0</td>\n",
       "      <td>1.0</td>\n",
       "    </tr>\n",
       "  </tbody>\n",
       "</table>\n",
       "</div>"
      ],
      "text/plain": [
       "         fullVisitorId  days_inactive  num_visits  sum_transactionRevenue  \\\n",
       "0  5576035078968099840           95.0         1.0                     0.0   \n",
       "1  7201046511999320064           95.0         1.0                     0.0   \n",
       "2   538763607569025984           95.0         1.0                     0.0   \n",
       "3  6901049768533789696           95.0         2.0                     0.0   \n",
       "4  8777024166359079936           95.0         1.0                     0.0   \n",
       "\n",
       "   hits  pageviews  timeOnSite      subcontinent device_browser  \\\n",
       "0   3.0        3.0       461.0   Southern Europe         Chrome   \n",
       "1   3.0        3.0       227.0      Eastern Asia          Opera   \n",
       "2   5.0        5.0        52.0    Western Europe         Safari   \n",
       "3   7.0        7.0       144.0  Northern America         Safari   \n",
       "4   7.0        5.0        86.0   Northern Europe         Safari   \n",
       "\n",
       "  device_operatingSystem  converted_label  num_visits_transformed  \\\n",
       "0                Windows                0                0.000000   \n",
       "1                Windows                0                0.000000   \n",
       "2              Macintosh                0                0.000000   \n",
       "3                    iOS                0                0.198866   \n",
       "4                    iOS                0                0.000000   \n",
       "\n",
       "   timeOnSite_hours  timeOnSite_minutes  \n",
       "0               0.0                 7.0  \n",
       "1               0.0                 3.0  \n",
       "2               0.0                 0.0  \n",
       "3               0.0                 2.0  \n",
       "4               0.0                 1.0  "
      ]
     },
     "execution_count": 743,
     "metadata": {},
     "output_type": "execute_result"
    }
   ],
   "source": [
    "df['timeOnSite_hours'] = df['timeOnSite'].apply(lambda x: x//3600)\n",
    "df['timeOnSite_minutes'] = df['timeOnSite'].apply(lambda x: x//60)\n",
    "df.head()"
   ]
  },
  {
   "cell_type": "markdown",
   "metadata": {},
   "source": [
    "### For `subcontinent` column"
   ]
  },
  {
   "cell_type": "code",
   "execution_count": 744,
   "metadata": {},
   "outputs": [
    {
     "data": {
      "text/plain": [
       "Northern America      68708\n",
       "Western Europe         9697\n",
       "Northern Europe        9192\n",
       "Southern Asia          8605\n",
       "Eastern Asia           6799\n",
       "Eastern Europe         5319\n",
       "Southeast Asia         5110\n",
       "Southern Europe        4909\n",
       "South America          4112\n",
       "Western Asia           2870\n",
       "Australasia            2518\n",
       "Central America        1528\n",
       "Northern Africa         753\n",
       "Caribbean               370\n",
       "Western Africa          355\n",
       "Southern Africa         279\n",
       "Eastern Africa          222\n",
       "Central Asia             98\n",
       "Middle Africa            42\n",
       "Melanesia                15\n",
       "Micronesian Region        6\n",
       "Polynesia                 4\n",
       "Name: subcontinent, dtype: int64"
      ]
     },
     "execution_count": 744,
     "metadata": {},
     "output_type": "execute_result"
    }
   ],
   "source": [
    "df.subcontinent.value_counts()"
   ]
  },
  {
   "cell_type": "code",
   "execution_count": 745,
   "metadata": {},
   "outputs": [
    {
     "data": {
      "text/plain": [
       "Northern America    220\n",
       "Western Europe        2\n",
       "South America         1\n",
       "Southeast Asia        1\n",
       "Name: subcontinent, dtype: int64"
      ]
     },
     "execution_count": 745,
     "metadata": {},
     "output_type": "execute_result"
    }
   ],
   "source": [
    "temp_df_label_1.subcontinent.value_counts()"
   ]
  },
  {
   "cell_type": "markdown",
   "metadata": {},
   "source": [
    "As it can be noticed that out of all the continents majority of leads convertions are in North America. This tells us that the rest of the continents do not have much contribution. Hence we can group the subcontinents into eith higher level subcontinents or only continents."
   ]
  },
  {
   "cell_type": "code",
   "execution_count": 746,
   "metadata": {},
   "outputs": [
    {
     "data": {
      "text/plain": [
       "(158, 0)"
      ]
     },
     "execution_count": 746,
     "metadata": {},
     "output_type": "execute_result"
    }
   ],
   "source": [
    "temp_df_label_0.subcontinent.isnull().sum(), temp_df_label_1.subcontinent.isnull().sum()"
   ]
  },
  {
   "cell_type": "markdown",
   "metadata": {},
   "source": [
    "It could be seen that there are some missing values in the colum as well. We can remove them for better results."
   ]
  },
  {
   "cell_type": "code",
   "execution_count": 747,
   "metadata": {},
   "outputs": [],
   "source": [
    "df = df[df.subcontinent.notna()]\n",
    "\n",
    "df.reset_index(inplace=True, drop=True)\n",
    "\n",
    "temp_df_label_0, temp_df_label_1 =  get_label_seperated_dfs(df)"
   ]
  },
  {
   "cell_type": "code",
   "execution_count": 748,
   "metadata": {},
   "outputs": [],
   "source": [
    "def to_continent(sub_continent):\n",
    "    if sub_continent in ['Western Europe', 'Northern Europe']:\n",
    "        return 'North & West Europe'\n",
    "    elif sub_continent in ['Southern Asia', 'Eastern Asia', 'Southeast Asia', 'Western Asia', 'Central Asia']:\n",
    "        return 'Asia' \n",
    "    elif sub_continent in ['Eastern Europe', 'Southern Europe']:\n",
    "        return 'South & East Europe'\n",
    "    elif sub_continent in ['Central America', 'Caribbean']:\n",
    "        return 'Central America & Caribbean'\n",
    "    elif 'Africa' in sub_continent.split():\n",
    "        return 'Africa'\n",
    "    elif sub_continent in ['Melanesia', 'Micronesian Region', 'Polynesia']:\n",
    "        return 'Other_continent'\n",
    "    else:\n",
    "        return sub_continent\n",
    "\n",
    "\n",
    "df['Continents'] = df.subcontinent.apply(to_continent)"
   ]
  },
  {
   "cell_type": "code",
   "execution_count": 749,
   "metadata": {},
   "outputs": [
    {
     "data": {
      "text/plain": [
       "Northern America               68708\n",
       "Asia                           23482\n",
       "North & West Europe            18889\n",
       "South & East Europe            10228\n",
       "South America                   4112\n",
       "Australasia                     2518\n",
       "Central America & Caribbean     1898\n",
       "Africa                          1651\n",
       "Other_continent                   25\n",
       "Name: Continents, dtype: int64"
      ]
     },
     "execution_count": 749,
     "metadata": {},
     "output_type": "execute_result"
    }
   ],
   "source": [
    "df.Continents.value_counts()"
   ]
  },
  {
   "cell_type": "code",
   "execution_count": 750,
   "metadata": {},
   "outputs": [],
   "source": [
    "temp_df_label_0, temp_df_label_1 =  get_label_seperated_dfs(df)"
   ]
  },
  {
   "cell_type": "code",
   "execution_count": 751,
   "metadata": {},
   "outputs": [],
   "source": [
    "labels = df.Continents.unique().tolist()"
   ]
  },
  {
   "cell_type": "code",
   "execution_count": 752,
   "metadata": {},
   "outputs": [
    {
     "data": {
      "image/png": "[encoded data removed]",
      "text/plain": [
       "<Figure size 432x288 with 1 Axes>"
      ]
     },
     "metadata": {
      "needs_background": "light"
     },
     "output_type": "display_data"
    }
   ],
   "source": [
    "# Creating histogram\n",
    "fig, ax = plt.subplots(1, 1)\n",
    "plt.hist(df.Continents.tolist(),  align='mid', bins = 50)\n",
    "plt.xticks(rotation='vertical')\n",
    "  \n",
    "# Set title\n",
    "ax.set_title(\"Continents\")\n",
    "  \n",
    "# adding labels\n",
    "ax.set_xlabel('Continents')\n",
    "ax.set_ylabel('Count')\n",
    "  \n",
    "# Show plot\n",
    "plt.show()"
   ]
  },
  {
   "cell_type": "markdown",
   "metadata": {},
   "source": [
    "One hot encoding for continents"
   ]
  },
  {
   "cell_type": "code",
   "execution_count": 753,
   "metadata": {},
   "outputs": [
    {
     "name": "stdout",
     "output_type": "stream",
     "text": [
      "South & East Europe is one hot encoded.\n",
      "Asia is one hot encoded.\n",
      "North & West Europe is one hot encoded.\n",
      "Northern America is one hot encoded.\n",
      "South America is one hot encoded.\n",
      "Australasia is one hot encoded.\n",
      "Central America & Caribbean is one hot encoded.\n",
      "Africa is one hot encoded.\n",
      "Other_continent is one hot encoded.\n"
     ]
    }
   ],
   "source": [
    "all_continents = df.Continents.unique()\n",
    "\n",
    "for continent in all_continents:\n",
    "    df[f\"is_{continent}\"] = (df['Continents'] == continent).astype(int)\n",
    "    print(f\"{continent} is one hot encoded.\")"
   ]
  },
  {
   "cell_type": "code",
   "execution_count": 754,
   "metadata": {},
   "outputs": [
    {
     "data": {
      "text/html": [
       "<div>\n",
       "<style scoped>\n",
       "    .dataframe tbody tr th:only-of-type {\n",
       "        vertical-align: middle;\n",
       "    }\n",
       "\n",
       "    .dataframe tbody tr th {\n",
       "        vertical-align: top;\n",
       "    }\n",
       "\n",
       "    .dataframe thead th {\n",
       "        text-align: right;\n",
       "    }\n",
       "</style>\n",
       "<table border=\"1\" class=\"dataframe\">\n",
       "  <thead>\n",
       "    <tr style=\"text-align: right;\">\n",
       "      <th></th>\n",
       "      <th>fullVisitorId</th>\n",
       "      <th>days_inactive</th>\n",
       "      <th>num_visits</th>\n",
       "      <th>sum_transactionRevenue</th>\n",
       "      <th>hits</th>\n",
       "      <th>pageviews</th>\n",
       "      <th>timeOnSite</th>\n",
       "      <th>subcontinent</th>\n",
       "      <th>device_browser</th>\n",
       "      <th>device_operatingSystem</th>\n",
       "      <th>...</th>\n",
       "      <th>Continents</th>\n",
       "      <th>is_South &amp; East Europe</th>\n",
       "      <th>is_Asia</th>\n",
       "      <th>is_North &amp; West Europe</th>\n",
       "      <th>is_Northern America</th>\n",
       "      <th>is_South America</th>\n",
       "      <th>is_Australasia</th>\n",
       "      <th>is_Central America &amp; Caribbean</th>\n",
       "      <th>is_Africa</th>\n",
       "      <th>is_Other_continent</th>\n",
       "    </tr>\n",
       "  </thead>\n",
       "  <tbody>\n",
       "    <tr>\n",
       "      <th>0</th>\n",
       "      <td>5576035078968099840</td>\n",
       "      <td>95.0</td>\n",
       "      <td>1.0</td>\n",
       "      <td>0.0</td>\n",
       "      <td>3.0</td>\n",
       "      <td>3.0</td>\n",
       "      <td>461.0</td>\n",
       "      <td>Southern Europe</td>\n",
       "      <td>Chrome</td>\n",
       "      <td>Windows</td>\n",
       "      <td>...</td>\n",
       "      <td>South &amp; East Europe</td>\n",
       "      <td>1</td>\n",
       "      <td>0</td>\n",
       "      <td>0</td>\n",
       "      <td>0</td>\n",
       "      <td>0</td>\n",
       "      <td>0</td>\n",
       "      <td>0</td>\n",
       "      <td>0</td>\n",
       "      <td>0</td>\n",
       "    </tr>\n",
       "    <tr>\n",
       "      <th>1</th>\n",
       "      <td>7201046511999320064</td>\n",
       "      <td>95.0</td>\n",
       "      <td>1.0</td>\n",
       "      <td>0.0</td>\n",
       "      <td>3.0</td>\n",
       "      <td>3.0</td>\n",
       "      <td>227.0</td>\n",
       "      <td>Eastern Asia</td>\n",
       "      <td>Opera</td>\n",
       "      <td>Windows</td>\n",
       "      <td>...</td>\n",
       "      <td>Asia</td>\n",
       "      <td>0</td>\n",
       "      <td>1</td>\n",
       "      <td>0</td>\n",
       "      <td>0</td>\n",
       "      <td>0</td>\n",
       "      <td>0</td>\n",
       "      <td>0</td>\n",
       "      <td>0</td>\n",
       "      <td>0</td>\n",
       "    </tr>\n",
       "  </tbody>\n",
       "</table>\n",
       "<p>2 rows × 24 columns</p>\n",
       "</div>"
      ],
      "text/plain": [
       "         fullVisitorId  days_inactive  num_visits  sum_transactionRevenue  \\\n",
       "0  5576035078968099840           95.0         1.0                     0.0   \n",
       "1  7201046511999320064           95.0         1.0                     0.0   \n",
       "\n",
       "   hits  pageviews  timeOnSite     subcontinent device_browser  \\\n",
       "0   3.0        3.0       461.0  Southern Europe         Chrome   \n",
       "1   3.0        3.0       227.0     Eastern Asia          Opera   \n",
       "\n",
       "  device_operatingSystem  ...           Continents  is_South & East Europe  \\\n",
       "0                Windows  ...  South & East Europe                       1   \n",
       "1                Windows  ...                 Asia                       0   \n",
       "\n",
       "   is_Asia  is_North & West Europe is_Northern America  is_South America  \\\n",
       "0        0                       0                   0                 0   \n",
       "1        1                       0                   0                 0   \n",
       "\n",
       "   is_Australasia  is_Central America & Caribbean  is_Africa  \\\n",
       "0               0                               0          0   \n",
       "1               0                               0          0   \n",
       "\n",
       "   is_Other_continent  \n",
       "0                   0  \n",
       "1                   0  \n",
       "\n",
       "[2 rows x 24 columns]"
      ]
     },
     "execution_count": 754,
     "metadata": {},
     "output_type": "execute_result"
    }
   ],
   "source": [
    "df.head(2)"
   ]
  },
  {
   "cell_type": "code",
   "execution_count": 755,
   "metadata": {},
   "outputs": [],
   "source": [
    "temp_df_label_0, temp_df_label_1 =  get_label_seperated_dfs(df)"
   ]
  },
  {
   "cell_type": "markdown",
   "metadata": {},
   "source": [
    "**For `device_browser` column**"
   ]
  },
  {
   "cell_type": "code",
   "execution_count": 756,
   "metadata": {},
   "outputs": [
    {
     "data": {
      "text/plain": [
       "Chrome                      94505\n",
       "Safari                      21491\n",
       "Firefox                      4883\n",
       "Internet Explorer            2736\n",
       "Android Webview              2356\n",
       "Edge                         1605\n",
       "Safari (in-app)              1450\n",
       "Opera Mini                    810\n",
       "Opera                         644\n",
       "UC Browser                    368\n",
       "YaBrowser                     222\n",
       "Amazon Silk                   108\n",
       "Coc Coc                        76\n",
       "Android Browser                76\n",
       "Mozilla Compatible Agent       52\n",
       "Name: device_browser, dtype: int64"
      ]
     },
     "execution_count": 756,
     "metadata": {},
     "output_type": "execute_result"
    }
   ],
   "source": [
    "df.device_browser.value_counts()[:15]"
   ]
  },
  {
   "cell_type": "code",
   "execution_count": 757,
   "metadata": {},
   "outputs": [
    {
     "data": {
      "text/plain": [
       "Puffin                 34\n",
       "Maxthon                24\n",
       "MRCHROME               18\n",
       "BlackBerry             16\n",
       "Nintendo Browser       16\n",
       "Nokia Browser           7\n",
       "SeaMonkey               3\n",
       "LYF_LS_4002_12          2\n",
       "Seznam                  2\n",
       "Iron                    2\n",
       "osee2unifiedRelease     1\n",
       "DoCoMo                  1\n",
       "YE                      1\n",
       "Reddit                  1\n",
       "DASH_JR_3G              1\n",
       "Name: device_browser, dtype: int64"
      ]
     },
     "execution_count": 757,
     "metadata": {},
     "output_type": "execute_result"
    }
   ],
   "source": [
    "df.device_browser.value_counts()[-15:]"
   ]
  },
  {
   "cell_type": "code",
   "execution_count": 758,
   "metadata": {},
   "outputs": [
    {
     "data": {
      "text/plain": [
       "Chrome               209\n",
       "Safari                 7\n",
       "Firefox                5\n",
       "Internet Explorer      2\n",
       "Safari (in-app)        1\n",
       "Name: device_browser, dtype: int64"
      ]
     },
     "execution_count": 758,
     "metadata": {},
     "output_type": "execute_result"
    }
   ],
   "source": [
    "temp_df_label_1.device_browser.value_counts()"
   ]
  },
  {
   "cell_type": "code",
   "execution_count": 759,
   "metadata": {},
   "outputs": [
    {
     "data": {
      "text/plain": [
       "30"
      ]
     },
     "execution_count": 759,
     "metadata": {},
     "output_type": "execute_result"
    }
   ],
   "source": [
    "len(df.device_browser.unique())"
   ]
  },
  {
   "cell_type": "code",
   "execution_count": 760,
   "metadata": {},
   "outputs": [
    {
     "data": {
      "text/plain": [
       "0"
      ]
     },
     "execution_count": 760,
     "metadata": {},
     "output_type": "execute_result"
    }
   ],
   "source": [
    "# No Null values\n",
    "df.device_browser.isnull().sum()"
   ]
  },
  {
   "cell_type": "markdown",
   "metadata": {},
   "source": [
    "There are 30 different classes for browser and out of them only 5 have been used for label 1. Hence we can encode these into less number of classes."
   ]
  },
  {
   "cell_type": "code",
   "execution_count": 761,
   "metadata": {},
   "outputs": [
    {
     "data": {
      "text/plain": [
       "array(['Android Webview', 'Edge', 'Safari (in-app)', 'Opera Mini',\n",
       "       'Opera', 'UC Browser', 'YaBrowser', 'Amazon Silk', 'Coc Coc',\n",
       "       'Android Browser', 'Mozilla Compatible Agent', 'Puffin', 'Maxthon',\n",
       "       'MRCHROME', 'BlackBerry', 'Nintendo Browser', 'Nokia Browser',\n",
       "       'SeaMonkey', 'LYF_LS_4002_12', 'Seznam', 'Iron',\n",
       "       'osee2unifiedRelease', 'DoCoMo', 'YE', 'Reddit', 'DASH_JR_3G'],\n",
       "      dtype=object)"
      ]
     },
     "execution_count": 761,
     "metadata": {},
     "output_type": "execute_result"
    }
   ],
   "source": [
    "Other_browsers =  df.device_browser.value_counts()[4:].index.values\n",
    "Other_browsers"
   ]
  },
  {
   "cell_type": "code",
   "execution_count": 762,
   "metadata": {},
   "outputs": [
    {
     "data": {
      "text/plain": [
       "Chrome               94505\n",
       "Safari               21491\n",
       "Other_browser         7896\n",
       "Firefox               4883\n",
       "Internet Explorer     2736\n",
       "Name: device_browser, dtype: int64"
      ]
     },
     "execution_count": 762,
     "metadata": {},
     "output_type": "execute_result"
    }
   ],
   "source": [
    "def browser_reduction(browser):\n",
    "    if browser in Other_browsers:\n",
    "        return 'Other_browser'\n",
    "    return browser\n",
    "\n",
    "df.device_browser = df.device_browser.apply(browser_reduction)\n",
    "df.device_browser.value_counts()"
   ]
  },
  {
   "cell_type": "code",
   "execution_count": 763,
   "metadata": {},
   "outputs": [
    {
     "name": "stdout",
     "output_type": "stream",
     "text": [
      "Chrome is one hot encoded.\n",
      "Other_browser is one hot encoded.\n",
      "Safari is one hot encoded.\n",
      "Firefox is one hot encoded.\n",
      "Internet Explorer is one hot encoded.\n"
     ]
    }
   ],
   "source": [
    "all_browsers = df.device_browser.unique()\n",
    "\n",
    "for browser in all_browsers:\n",
    "    df[f\"is_{browser}\"] = (df['device_browser'] == browser).astype(int)\n",
    "    print(f\"{browser} is one hot encoded.\")"
   ]
  },
  {
   "cell_type": "code",
   "execution_count": 764,
   "metadata": {},
   "outputs": [],
   "source": [
    "temp_df_label_0, temp_df_label_1 =  get_label_seperated_dfs(df)"
   ]
  },
  {
   "cell_type": "markdown",
   "metadata": {},
   "source": [
    "**For `device_operatingSystem` column**"
   ]
  },
  {
   "cell_type": "code",
   "execution_count": 765,
   "metadata": {},
   "outputs": [
    {
     "data": {
      "text/plain": [
       "Windows          46405\n",
       "Macintosh        32181\n",
       "Android          22205\n",
       "iOS              19871\n",
       "Linux             5632\n",
       "Chrome OS         4320\n",
       "Windows Phone      159\n",
       "Samsung             35\n",
       "BlackBerry          19\n",
       "Firefox OS          16\n",
       "Xbox                13\n",
       "Nintendo Wii        10\n",
       "Nintendo WiiU        6\n",
       "FreeBSD              1\n",
       "OpenBSD              1\n",
       "NTT DoCoMo           1\n",
       "Name: device_operatingSystem, dtype: int64"
      ]
     },
     "execution_count": 765,
     "metadata": {},
     "output_type": "execute_result"
    }
   ],
   "source": [
    "df.device_operatingSystem.value_counts()"
   ]
  },
  {
   "cell_type": "code",
   "execution_count": 766,
   "metadata": {},
   "outputs": [
    {
     "data": {
      "text/plain": [
       "Macintosh    127\n",
       "Chrome OS     36\n",
       "Windows       35\n",
       "Linux         19\n",
       "iOS            5\n",
       "Android        2\n",
       "Name: device_operatingSystem, dtype: int64"
      ]
     },
     "execution_count": 766,
     "metadata": {},
     "output_type": "execute_result"
    }
   ],
   "source": [
    "temp_df_label_1.device_operatingSystem.value_counts()"
   ]
  },
  {
   "cell_type": "code",
   "execution_count": 767,
   "metadata": {},
   "outputs": [
    {
     "data": {
      "text/plain": [
       "636"
      ]
     },
     "execution_count": 767,
     "metadata": {},
     "output_type": "execute_result"
    }
   ],
   "source": [
    "df.device_operatingSystem.isnull().sum()"
   ]
  },
  {
   "cell_type": "code",
   "execution_count": 768,
   "metadata": {},
   "outputs": [],
   "source": [
    "#removing null values\n",
    "df = df[df.device_operatingSystem.notna()]\n",
    "\n",
    "df.reset_index(inplace=True, drop=True)"
   ]
  },
  {
   "cell_type": "code",
   "execution_count": 769,
   "metadata": {},
   "outputs": [
    {
     "data": {
      "text/plain": [
       "array(['Windows Phone', 'Samsung', 'BlackBerry', 'Firefox OS', 'Xbox',\n",
       "       'Nintendo Wii', 'Nintendo WiiU', 'FreeBSD', 'OpenBSD',\n",
       "       'NTT DoCoMo'], dtype=object)"
      ]
     },
     "execution_count": 769,
     "metadata": {},
     "output_type": "execute_result"
    }
   ],
   "source": [
    "Other_os = df.device_operatingSystem.value_counts()[6:].index.values\n",
    "Other_os"
   ]
  },
  {
   "cell_type": "code",
   "execution_count": 770,
   "metadata": {},
   "outputs": [
    {
     "data": {
      "text/plain": [
       "Windows      46405\n",
       "Macintosh    32181\n",
       "Android      22205\n",
       "iOS          19871\n",
       "Linux         5632\n",
       "Chrome OS     4320\n",
       "Others_os      261\n",
       "Name: device_operatingSystem, dtype: int64"
      ]
     },
     "execution_count": 770,
     "metadata": {},
     "output_type": "execute_result"
    }
   ],
   "source": [
    "def os_reduction(os):\n",
    "    if os in Other_os:\n",
    "        return 'Others_os'\n",
    "    return os\n",
    "\n",
    "df.device_operatingSystem = df.device_operatingSystem.apply(os_reduction)\n",
    "df.device_operatingSystem.value_counts()"
   ]
  },
  {
   "cell_type": "code",
   "execution_count": 771,
   "metadata": {},
   "outputs": [
    {
     "name": "stdout",
     "output_type": "stream",
     "text": [
      "Windows is one hot encoded.\n",
      "Macintosh is one hot encoded.\n",
      "iOS is one hot encoded.\n",
      "Android is one hot encoded.\n",
      "Chrome OS is one hot encoded.\n",
      "Linux is one hot encoded.\n",
      "Others_os is one hot encoded.\n"
     ]
    }
   ],
   "source": [
    "all_os = df.device_operatingSystem.unique()\n",
    "\n",
    "for os in all_os:\n",
    "    df[f\"is_{os}\"] = (df['device_operatingSystem'] == os).astype(int)\n",
    "    print(f\"{os} is one hot encoded.\")"
   ]
  },
  {
   "cell_type": "code",
   "execution_count": 772,
   "metadata": {},
   "outputs": [],
   "source": [
    "temp_df_label_0, temp_df_label_1 =  get_label_seperated_dfs(df)"
   ]
  },
  {
   "cell_type": "code",
   "execution_count": 773,
   "metadata": {},
   "outputs": [
    {
     "data": {
      "text/html": [
       "<div>\n",
       "<style scoped>\n",
       "    .dataframe tbody tr th:only-of-type {\n",
       "        vertical-align: middle;\n",
       "    }\n",
       "\n",
       "    .dataframe tbody tr th {\n",
       "        vertical-align: top;\n",
       "    }\n",
       "\n",
       "    .dataframe thead th {\n",
       "        text-align: right;\n",
       "    }\n",
       "</style>\n",
       "<table border=\"1\" class=\"dataframe\">\n",
       "  <thead>\n",
       "    <tr style=\"text-align: right;\">\n",
       "      <th></th>\n",
       "      <th>fullVisitorId</th>\n",
       "      <th>days_inactive</th>\n",
       "      <th>num_visits</th>\n",
       "      <th>sum_transactionRevenue</th>\n",
       "      <th>hits</th>\n",
       "      <th>pageviews</th>\n",
       "      <th>timeOnSite</th>\n",
       "      <th>subcontinent</th>\n",
       "      <th>device_browser</th>\n",
       "      <th>device_operatingSystem</th>\n",
       "      <th>...</th>\n",
       "      <th>is_Safari</th>\n",
       "      <th>is_Firefox</th>\n",
       "      <th>is_Internet Explorer</th>\n",
       "      <th>is_Windows</th>\n",
       "      <th>is_Macintosh</th>\n",
       "      <th>is_iOS</th>\n",
       "      <th>is_Android</th>\n",
       "      <th>is_Chrome OS</th>\n",
       "      <th>is_Linux</th>\n",
       "      <th>is_Others_os</th>\n",
       "    </tr>\n",
       "  </thead>\n",
       "  <tbody>\n",
       "    <tr>\n",
       "      <th>0</th>\n",
       "      <td>5576035078968099840</td>\n",
       "      <td>95.0</td>\n",
       "      <td>1.0</td>\n",
       "      <td>0.0</td>\n",
       "      <td>3.0</td>\n",
       "      <td>3.0</td>\n",
       "      <td>461.0</td>\n",
       "      <td>Southern Europe</td>\n",
       "      <td>Chrome</td>\n",
       "      <td>Windows</td>\n",
       "      <td>...</td>\n",
       "      <td>0</td>\n",
       "      <td>0</td>\n",
       "      <td>0</td>\n",
       "      <td>1</td>\n",
       "      <td>0</td>\n",
       "      <td>0</td>\n",
       "      <td>0</td>\n",
       "      <td>0</td>\n",
       "      <td>0</td>\n",
       "      <td>0</td>\n",
       "    </tr>\n",
       "    <tr>\n",
       "      <th>1</th>\n",
       "      <td>7201046511999320064</td>\n",
       "      <td>95.0</td>\n",
       "      <td>1.0</td>\n",
       "      <td>0.0</td>\n",
       "      <td>3.0</td>\n",
       "      <td>3.0</td>\n",
       "      <td>227.0</td>\n",
       "      <td>Eastern Asia</td>\n",
       "      <td>Other_browser</td>\n",
       "      <td>Windows</td>\n",
       "      <td>...</td>\n",
       "      <td>0</td>\n",
       "      <td>0</td>\n",
       "      <td>0</td>\n",
       "      <td>1</td>\n",
       "      <td>0</td>\n",
       "      <td>0</td>\n",
       "      <td>0</td>\n",
       "      <td>0</td>\n",
       "      <td>0</td>\n",
       "      <td>0</td>\n",
       "    </tr>\n",
       "    <tr>\n",
       "      <th>2</th>\n",
       "      <td>538763607569025984</td>\n",
       "      <td>95.0</td>\n",
       "      <td>1.0</td>\n",
       "      <td>0.0</td>\n",
       "      <td>5.0</td>\n",
       "      <td>5.0</td>\n",
       "      <td>52.0</td>\n",
       "      <td>Western Europe</td>\n",
       "      <td>Safari</td>\n",
       "      <td>Macintosh</td>\n",
       "      <td>...</td>\n",
       "      <td>1</td>\n",
       "      <td>0</td>\n",
       "      <td>0</td>\n",
       "      <td>0</td>\n",
       "      <td>1</td>\n",
       "      <td>0</td>\n",
       "      <td>0</td>\n",
       "      <td>0</td>\n",
       "      <td>0</td>\n",
       "      <td>0</td>\n",
       "    </tr>\n",
       "    <tr>\n",
       "      <th>3</th>\n",
       "      <td>6901049768533789696</td>\n",
       "      <td>95.0</td>\n",
       "      <td>2.0</td>\n",
       "      <td>0.0</td>\n",
       "      <td>7.0</td>\n",
       "      <td>7.0</td>\n",
       "      <td>144.0</td>\n",
       "      <td>Northern America</td>\n",
       "      <td>Safari</td>\n",
       "      <td>iOS</td>\n",
       "      <td>...</td>\n",
       "      <td>1</td>\n",
       "      <td>0</td>\n",
       "      <td>0</td>\n",
       "      <td>0</td>\n",
       "      <td>0</td>\n",
       "      <td>1</td>\n",
       "      <td>0</td>\n",
       "      <td>0</td>\n",
       "      <td>0</td>\n",
       "      <td>0</td>\n",
       "    </tr>\n",
       "    <tr>\n",
       "      <th>4</th>\n",
       "      <td>8777024166359079936</td>\n",
       "      <td>95.0</td>\n",
       "      <td>1.0</td>\n",
       "      <td>0.0</td>\n",
       "      <td>7.0</td>\n",
       "      <td>5.0</td>\n",
       "      <td>86.0</td>\n",
       "      <td>Northern Europe</td>\n",
       "      <td>Safari</td>\n",
       "      <td>iOS</td>\n",
       "      <td>...</td>\n",
       "      <td>1</td>\n",
       "      <td>0</td>\n",
       "      <td>0</td>\n",
       "      <td>0</td>\n",
       "      <td>0</td>\n",
       "      <td>1</td>\n",
       "      <td>0</td>\n",
       "      <td>0</td>\n",
       "      <td>0</td>\n",
       "      <td>0</td>\n",
       "    </tr>\n",
       "  </tbody>\n",
       "</table>\n",
       "<p>5 rows × 36 columns</p>\n",
       "</div>"
      ],
      "text/plain": [
       "         fullVisitorId  days_inactive  num_visits  sum_transactionRevenue  \\\n",
       "0  5576035078968099840           95.0         1.0                     0.0   \n",
       "1  7201046511999320064           95.0         1.0                     0.0   \n",
       "2   538763607569025984           95.0         1.0                     0.0   \n",
       "3  6901049768533789696           95.0         2.0                     0.0   \n",
       "4  8777024166359079936           95.0         1.0                     0.0   \n",
       "\n",
       "   hits  pageviews  timeOnSite      subcontinent device_browser  \\\n",
       "0   3.0        3.0       461.0   Southern Europe         Chrome   \n",
       "1   3.0        3.0       227.0      Eastern Asia  Other_browser   \n",
       "2   5.0        5.0        52.0    Western Europe         Safari   \n",
       "3   7.0        7.0       144.0  Northern America         Safari   \n",
       "4   7.0        5.0        86.0   Northern Europe         Safari   \n",
       "\n",
       "  device_operatingSystem  ...  is_Safari  is_Firefox  is_Internet Explorer  \\\n",
       "0                Windows  ...          0           0                     0   \n",
       "1                Windows  ...          0           0                     0   \n",
       "2              Macintosh  ...          1           0                     0   \n",
       "3                    iOS  ...          1           0                     0   \n",
       "4                    iOS  ...          1           0                     0   \n",
       "\n",
       "   is_Windows is_Macintosh  is_iOS  is_Android  is_Chrome OS  is_Linux  \\\n",
       "0           1            0       0           0             0         0   \n",
       "1           1            0       0           0             0         0   \n",
       "2           0            1       0           0             0         0   \n",
       "3           0            0       1           0             0         0   \n",
       "4           0            0       1           0             0         0   \n",
       "\n",
       "   is_Others_os  \n",
       "0             0  \n",
       "1             0  \n",
       "2             0  \n",
       "3             0  \n",
       "4             0  \n",
       "\n",
       "[5 rows x 36 columns]"
      ]
     },
     "execution_count": 773,
     "metadata": {},
     "output_type": "execute_result"
    }
   ],
   "source": [
    "df.head()"
   ]
  },
  {
   "cell_type": "code",
   "execution_count": 774,
   "metadata": {},
   "outputs": [],
   "source": [
    "df.to_csv('dse_training_data_filtered.csv', index=False)"
   ]
  },
  {
   "cell_type": "code",
   "execution_count": 775,
   "metadata": {},
   "outputs": [
    {
     "data": {
      "text/plain": [
       "Index(['fullVisitorId', 'days_inactive', 'num_visits',\n",
       "       'sum_transactionRevenue', 'hits', 'pageviews', 'timeOnSite',\n",
       "       'subcontinent', 'device_browser', 'device_operatingSystem',\n",
       "       'converted_label', 'num_visits_transformed', 'timeOnSite_hours',\n",
       "       'timeOnSite_minutes', 'Continents', 'is_South & East Europe', 'is_Asia',\n",
       "       'is_North & West Europe', 'is_Northern America', 'is_South America',\n",
       "       'is_Australasia', 'is_Central America & Caribbean', 'is_Africa',\n",
       "       'is_Other_continent', 'is_Chrome', 'is_Other_browser', 'is_Safari',\n",
       "       'is_Firefox', 'is_Internet Explorer', 'is_Windows', 'is_Macintosh',\n",
       "       'is_iOS', 'is_Android', 'is_Chrome OS', 'is_Linux', 'is_Others_os'],\n",
       "      dtype='object')"
      ]
     },
     "execution_count": 775,
     "metadata": {},
     "output_type": "execute_result"
    }
   ],
   "source": [
    "df.columns"
   ]
  }
 ],
 "metadata": {
  "interpreter": {
   "hash": "b6dd608ddd16ef8114cec5f050ad31736520bdbacef8568d33dc109fcf0153f1"
  },
  "kernelspec": {
   "display_name": "Python 3.8.0 64-bit",
   "language": "python",
   "name": "python3"
  },
  "language_info": {
   "codemirror_mode": {
    "name": "ipython",
    "version": 3
   },
   "file_extension": ".py",
   "mimetype": "text/x-python",
   "name": "python",
   "nbconvert_exporter": "python",
   "pygments_lexer": "ipython3",
   "version": "3.8.0"
  },
  "orig_nbformat": 4
 },
 "nbformat": 4,
 "nbformat_minor": 2
}
